{
 "cells": [
  {
   "cell_type": "code",
   "execution_count": 20,
   "metadata": {
    "collapsed": true
   },
   "outputs": [],
   "source": [
    "import os\n",
    "\n",
    "os.environ[\"CUDA_VISIBLE_DEVICES\"] = '0'"
   ]
  },
  {
   "cell_type": "markdown",
   "metadata": {},
   "source": [
    "## Text preprocessing"
   ]
  },
  {
   "cell_type": "code",
   "execution_count": 21,
   "metadata": {
    "collapsed": true
   },
   "outputs": [],
   "source": [
    "import tensorflow as tf\n",
    "import numpy as np"
   ]
  },
  {
   "cell_type": "code",
   "execution_count": 22,
   "metadata": {
    "collapsed": true
   },
   "outputs": [],
   "source": [
    "word_dict = np.load('./dataset/enVocab.npy').tolist()\n",
    "idx_dict = np.load('./dataset/enRev.npy').tolist()"
   ]
  },
  {
   "cell_type": "markdown",
   "metadata": {},
   "source": [
    "首先，先把英文的 dictionary load 進來，就能將單字轉成 ID；同時也把 decoder load 進來，就能將 ID 轉回單字。  \n",
    "原本想嘗試自己建構 dictionary，不過有同學說 memory 會不夠，因此我也就沒有多做嘗試。"
   ]
  },
  {
   "cell_type": "code",
   "execution_count": 23,
   "metadata": {
    "collapsed": true
   },
   "outputs": [],
   "source": [
    "punctuations = ['.', ',', '!', '?', '-', '_', '\\\"']\n",
    "data = []\n",
    "\n",
    "with open('./dataset/conversations.txt', 'r', encoding='utf-8') as text:\n",
    "    lines = text.readlines()\n",
    "    \n",
    "    for lines in lines:\n",
    "        lines = lines.strip()\n",
    "        for punc in punctuations:\n",
    "            if punc in lines:\n",
    "                lines = lines.replace(punc, '')\n",
    "        words = lines.split()\n",
    "        words = [w for w in words if w]\n",
    "        \n",
    "        if words:\n",
    "            data.append(words)\n",
    "    text.close()\n",
    "    del lines\n",
    "    "
   ]
  },
  {
   "cell_type": "code",
   "execution_count": 24,
   "metadata": {},
   "outputs": [
    {
     "name": "stdout",
     "output_type": "stream",
     "text": [
      "['can', 'we', 'make', 'this', 'quick', 'roxanne', 'korrine', 'and', 'andrew', 'barrett', 'are', 'having', 'an', 'incredibly', 'horrendous', 'public', 'break', 'up', 'on', 'the', 'quad', 'again']\n"
     ]
    }
   ],
   "source": [
    "print(data[0])"
   ]
  },
  {
   "cell_type": "markdown",
   "metadata": {},
   "source": [
    "接著要對 conversations 做 preprocessing。  \n",
    "1. 我先去掉讀進來的句子頭尾的空白。  \n",
    "2. 先把句子中的標點符號去掉。\n",
    "3. 把句子切成一個個單字的 list，再把裡面的空的單字去掉。\n",
    "4. 最後，如果是有單字的句子我才把他加進最後的 data 中，避免有空的句子。"
   ]
  },
  {
   "cell_type": "markdown",
   "metadata": {},
   "source": [
    "接著，將 data 中的 conversations 分成提問和回答。  \n",
    "我的作法是，把單數的句子當作提問，雙數的句子當作回應。"
   ]
  },
  {
   "cell_type": "code",
   "execution_count": 25,
   "metadata": {
    "collapsed": true
   },
   "outputs": [],
   "source": [
    "question = []\n",
    "ans = []\n",
    "for idx, line in enumerate(data):\n",
    "    tmp = []\n",
    "    tmp.append(word_dict['<BEG>'])# add <BEG>\n",
    "    for word in line:\n",
    "        if word in word_dict:\n",
    "            tmp.append(word_dict[word])\n",
    "    \n",
    "    if idx%2 == 0:# for question\n",
    "        tmp.append(word_dict['<END>'])# add <END>\n",
    "        question.append(tmp)\n",
    "    elif idx%2 == 1:# for ans\n",
    "        tmp.append(word_dict['<END>'])# add <END>\n",
    "        ans.append(tmp)"
   ]
  },
  {
   "cell_type": "markdown",
   "metadata": {},
   "source": [
    "再來，要考慮到 max length。  \n",
    "根據我的實驗，太長會讓我的 RNN 失敗，所以我想要限制住每一句的 max length，如果大於 max_length 我就只取到 max_length。"
   ]
  },
  {
   "cell_type": "code",
   "execution_count": 26,
   "metadata": {},
   "outputs": [
    {
     "name": "stdout",
     "output_type": "stream",
     "text": [
      "Questions max length: 468\n",
      "Ans max length: 309\n"
     ]
    }
   ],
   "source": [
    "question_max_length = sorted([len(question[i]) for i in range(len(question))], reverse=True)[0]\n",
    "ans_max_length = sorted([len(ans[i]) for i in range(len(ans))], reverse=True)[0]\n",
    "print('Questions max length:', question_max_length)\n",
    "print('Ans max length:', ans_max_length)"
   ]
  },
  {
   "cell_type": "code",
   "execution_count": 27,
   "metadata": {
    "collapsed": true
   },
   "outputs": [],
   "source": [
    "max_length = 60 # hyperparameter\n",
    "\n",
    "question_short = []\n",
    "ans_short = []\n",
    "\n",
    "for i in range(len(ans)):\n",
    "    if len(question[i]) > max_length:\n",
    "        question_short.append(question[i][:max_length])\n",
    "    else:\n",
    "        question_short.append(question[i])\n",
    "        \n",
    "    if len(ans[i]) > max_length:\n",
    "        ans_short.append(ans[i][:max_length])\n",
    "    else:\n",
    "        ans_short.append(ans[i])"
   ]
  },
  {
   "cell_type": "code",
   "execution_count": 28,
   "metadata": {},
   "outputs": [
    {
     "name": "stdout",
     "output_type": "stream",
     "text": [
      "Questions max length: 60\n",
      "Ans max length: 60\n"
     ]
    }
   ],
   "source": [
    "new_question_max_length = sorted([len(question_short[i]) for i in range(len(question_short))], reverse=True)[0]\n",
    "new_ans_max_length = sorted([len(ans_short[i]) for i in range(len(ans_short))], reverse=True)[0]\n",
    "print('Questions max length:', new_question_max_length)\n",
    "print('Ans max length:', new_ans_max_length)"
   ]
  },
  {
   "cell_type": "markdown",
   "metadata": {},
   "source": [
    "## Batch preparation"
   ]
  },
  {
   "cell_type": "code",
   "execution_count": 29,
   "metadata": {
    "collapsed": true
   },
   "outputs": [],
   "source": [
    "BATCH_SIZE = 128"
   ]
  },
  {
   "cell_type": "markdown",
   "metadata": {},
   "source": [
    "batch size 的部分，如果我用 256 的話會完全跑不起來，所以我最後只使用128。"
   ]
  },
  {
   "cell_type": "code",
   "execution_count": 30,
   "metadata": {
    "collapsed": true
   },
   "outputs": [],
   "source": [
    "class BatchGenerator(object):\n",
    "    def __init__(self, en_corpus, ch_corpus, en_pad, ch_pad, en_max_len, ch_max_len, batch_size):\n",
    "        #self.n = len(en_corpus)\n",
    "        self.batch_num = len(en_corpus) // batch_size\n",
    "        self.n = self.batch_num * batch_size\n",
    "\n",
    "        self.en_corpus = en_corpus\n",
    "        self.ch_corpus = ch_corpus\n",
    "\n",
    "        self.en_pad = en_pad\n",
    "        self.ch_pad = ch_pad\n",
    "\n",
    "        self.en_max_len = en_max_len\n",
    "        self.ch_max_len = ch_max_len\n",
    "        self.batch_size = batch_size\n",
    "        \n",
    "        self.xs = [np.zeros(self.n, dtype=np.int32) for _ in range(en_max_len)]  # encoder inputs\n",
    "        self.ys = [np.zeros(self.n, dtype=np.int32) for _ in range(ch_max_len)]  # decoder inputs\n",
    "        self.gs = [np.zeros(self.n, dtype=np.int32) for _ in range(ch_max_len)]  # decoder outputs\n",
    "        self.ws = [np.zeros(self.n, dtype=np.float32) for _ in range(ch_max_len)]  # decoder weight for loss caculation\n",
    "        for b in range(self.batch_num):\n",
    "            for i in range(b * batch_size, (b + 1) * batch_size):\n",
    "                for j in range(len(en_corpus[i]) - 2):\n",
    "                    self.xs[j][i] = en_corpus[i][j + 1]\n",
    "                for j in range(j + 1, en_max_len):\n",
    "                    self.xs[j][i] = en_pad\n",
    "\n",
    "                for j in range(len(ch_corpus[i]) - 1):\n",
    "                    self.ys[j][i] = ch_corpus[i][j]\n",
    "                    self.gs[j][i] = ch_corpus[i][j + 1]\n",
    "                    self.ws[j][i] = 1.0\n",
    "                for j in range(j + 1, ch_max_len):  # don't forget padding and let loss weight zero\n",
    "                    self.ys[j][i] = ch_pad\n",
    "                    self.gs[j][i] = ch_pad\n",
    "                    self.ws[j][i] = 0.0      \n",
    "    def get(self, batch_id):\n",
    "        x = [ self.xs[i][batch_id * self.batch_size:(batch_id + 1) * self.batch_size] for i in range(self.en_max_len) ]\n",
    "        y = [ self.ys[i][batch_id * self.batch_size:(batch_id + 1) * self.batch_size] for i in range(self.ch_max_len) ]\n",
    "        g = [ self.gs[i][batch_id * self.batch_size:(batch_id + 1) * self.batch_size] for i in range(self.ch_max_len) ]\n",
    "        w = [ self.ws[i][batch_id * self.batch_size:(batch_id + 1) * self.batch_size] for i in range(self.ch_max_len) ]\n",
    "        return x, y, g, w"
   ]
  },
  {
   "cell_type": "markdown",
   "metadata": {},
   "source": [
    "製作 batch 的方法基本上差不多。  \n",
    "比較值得提到的是我在這邊沒有碰到記憶體不足的問題，可以直接在 initial 時把所有的結果都做好，並在 call get 時把需要的 batch 直接擷取出來就好。"
   ]
  },
  {
   "cell_type": "code",
   "execution_count": 31,
   "metadata": {},
   "outputs": [
    {
     "name": "stdout",
     "output_type": "stream",
     "text": [
      "the <PAD> <PAD> <PAD> <PAD> <PAD> <PAD> <PAD> <PAD> <PAD> <PAD> <PAD> <PAD> <PAD> <PAD> <PAD> <PAD> <PAD> <PAD> <PAD> <PAD> <PAD> <PAD> <PAD> <PAD> <PAD> <PAD> <PAD> <PAD> <PAD> <PAD> <PAD> <PAD> <PAD> <PAD> <PAD> <PAD> <PAD> <PAD> <PAD> <PAD> <PAD> <PAD> <PAD> <PAD> <PAD> <PAD> <PAD> <PAD> <PAD> <PAD> <PAD> <PAD> <PAD> <PAD> <PAD> <PAD> <PAD> <PAD> <PAD>\n",
      "<BEG> <PAD> <PAD> <PAD> <PAD> <PAD> <PAD> <PAD> <PAD> <PAD> <PAD> <PAD> <PAD> <PAD> <PAD> <PAD> <PAD> <PAD> <PAD> <PAD> <PAD> <PAD> <PAD> <PAD> <PAD> <PAD> <PAD> <PAD> <PAD> <PAD> <PAD> <PAD> <PAD> <PAD> <PAD> <PAD> <PAD> <PAD> <PAD> <PAD> <PAD> <PAD> <PAD> <PAD> <PAD> <PAD> <PAD> <PAD> <PAD> <PAD> <PAD> <PAD> <PAD> <PAD> <PAD> <PAD> <PAD> <PAD> <PAD> <PAD>\n",
      "<END> <PAD> <PAD> <PAD> <PAD> <PAD> <PAD> <PAD> <PAD> <PAD> <PAD> <PAD> <PAD> <PAD> <PAD> <PAD> <PAD> <PAD> <PAD> <PAD> <PAD> <PAD> <PAD> <PAD> <PAD> <PAD> <PAD> <PAD> <PAD> <PAD> <PAD> <PAD> <PAD> <PAD> <PAD> <PAD> <PAD> <PAD> <PAD> <PAD> <PAD> <PAD> <PAD> <PAD> <PAD> <PAD> <PAD> <PAD> <PAD> <PAD> <PAD> <PAD> <PAD> <PAD> <PAD> <PAD> <PAD> <PAD> <PAD> <PAD>\n",
      "\n",
      "i know the a lie <PAD> <PAD> <PAD> <PAD> <PAD> <PAD> <PAD> <PAD> <PAD> <PAD> <PAD> <PAD> <PAD> <PAD> <PAD> <PAD> <PAD> <PAD> <PAD> <PAD> <PAD> <PAD> <PAD> <PAD> <PAD> <PAD> <PAD> <PAD> <PAD> <PAD> <PAD> <PAD> <PAD> <PAD> <PAD> <PAD> <PAD> <PAD> <PAD> <PAD> <PAD> <PAD> <PAD> <PAD> <PAD> <PAD> <PAD> <PAD> <PAD> <PAD> <PAD> <PAD> <PAD> <PAD> <PAD>\n",
      "<BEG> tell me something true <PAD> <PAD> <PAD> <PAD> <PAD> <PAD> <PAD> <PAD> <PAD> <PAD> <PAD> <PAD> <PAD> <PAD> <PAD> <PAD> <PAD> <PAD> <PAD> <PAD> <PAD> <PAD> <PAD> <PAD> <PAD> <PAD> <PAD> <PAD> <PAD> <PAD> <PAD> <PAD> <PAD> <PAD> <PAD> <PAD> <PAD> <PAD> <PAD> <PAD> <PAD> <PAD> <PAD> <PAD> <PAD> <PAD> <PAD> <PAD> <PAD> <PAD> <PAD> <PAD> <PAD> <PAD> <PAD>\n",
      "tell me something true <END> <PAD> <PAD> <PAD> <PAD> <PAD> <PAD> <PAD> <PAD> <PAD> <PAD> <PAD> <PAD> <PAD> <PAD> <PAD> <PAD> <PAD> <PAD> <PAD> <PAD> <PAD> <PAD> <PAD> <PAD> <PAD> <PAD> <PAD> <PAD> <PAD> <PAD> <PAD> <PAD> <PAD> <PAD> <PAD> <PAD> <PAD> <PAD> <PAD> <PAD> <PAD> <PAD> <PAD> <PAD> <PAD> <PAD> <PAD> <PAD> <PAD> <PAD> <PAD> <PAD> <PAD> <PAD> <PAD>\n",
      "\n"
     ]
    }
   ],
   "source": [
    "batch = BatchGenerator(question_short, ans_short, word_dict['<PAD>'], word_dict['<PAD>'], max_length, max_length, BATCH_SIZE)\n",
    "x, y, g, w = batch.get(2)\n",
    "for i in range(2):\n",
    "    print(' '.join([idx_dict[x[j][i]] for j in range(max_length)]))\n",
    "    print(' '.join([idx_dict[y[j][i]] for j in range(max_length)]))\n",
    "    print(' '.join([idx_dict[g[j][i]] for j in range(max_length)]))\n",
    "    print('')"
   ]
  },
  {
   "cell_type": "markdown",
   "metadata": {},
   "source": [
    "##  Model training"
   ]
  },
  {
   "cell_type": "code",
   "execution_count": 32,
   "metadata": {
    "collapsed": true
   },
   "outputs": [],
   "source": [
    "EPOCHS = 40"
   ]
  },
  {
   "cell_type": "code",
   "execution_count": 33,
   "metadata": {
    "collapsed": true
   },
   "outputs": [],
   "source": [
    "class ChatBox:\n",
    "\n",
    "    def __init__(self, en_max_len, ch_max_len, en_size, ch_size):\n",
    "        self.en_max_len = en_max_len\n",
    "        self.ch_max_len = ch_max_len\n",
    "\n",
    "        with tf.variable_scope('seq2seq_input/output'):\n",
    "            self.enc_inputs = [ tf.placeholder(tf.int32, [None]) for i in range(en_max_len) ]  # time mojor feed\n",
    "            self.dec_inputs = [ tf.placeholder(tf.int32, [None]) for i in range(ch_max_len) ]\n",
    "            self.groundtruths = [ tf.placeholder(tf.int32, [None]) for i in range(ch_max_len) ]\n",
    "            self.weights = [ tf.placeholder(tf.float32, [None]) for i in range(ch_max_len) ]\n",
    "\n",
    "        with tf.variable_scope('seq2seq_rnn'):  # training by teacher forcing\n",
    "            self.out_cell = tf.contrib.rnn.LSTMCell(512)\n",
    "            self.outputs, _ = tf.contrib.legacy_seq2seq.embedding_attention_seq2seq(\n",
    "                  self.enc_inputs, self.dec_inputs, self.out_cell, en_size, ch_size, 300)\n",
    "        with tf.variable_scope('seq2seq_rnn', reuse=True):  # predict by feeding previous\n",
    "            self.pred_cell = tf.contrib.rnn.LSTMCell(512, reuse=True)  # reuse cell for train and test\n",
    "            self.predictions, _ = tf.contrib.legacy_seq2seq.embedding_attention_seq2seq(\n",
    "                  self.enc_inputs,\n",
    "                  self.dec_inputs,\n",
    "                  self.pred_cell,\n",
    "                  en_size,\n",
    "                  ch_size,\n",
    "                  300,\n",
    "                  feed_previous=True)\n",
    "        with tf.variable_scope('loss'):\n",
    "          # caculate weighted loss\n",
    "            self.loss = tf.reduce_mean(tf.contrib.legacy_seq2seq.sequence_loss_by_example(\n",
    "                  self.outputs, self.groundtruths, self.weights))\n",
    "            self.optimizer = tf.train.AdamOptimizer(0.002).minimize(self.loss)\n",
    "\n",
    "        self.sess = tf.Session()\n",
    "        self.saver = tf.train.Saver()\n",
    "        self.sess.run(tf.global_variables_initializer())\n",
    "\n",
    "    def train(self, x, y, g, w):\n",
    "        fd = {}\n",
    "        for i in range(self.en_max_len):\n",
    "            fd[self.enc_inputs[i]] = x[i]  # show how to feed a list\n",
    "\n",
    "        for i in range(self.ch_max_len):\n",
    "            fd[self.dec_inputs[i]] = y[i]\n",
    "            fd[self.groundtruths[i]] = g[i]\n",
    "            fd[self.weights[i]] = w[i]\n",
    "\n",
    "        loss, _ = self.sess.run([self.loss, self.optimizer], fd)\n",
    "\n",
    "        return loss\n",
    "\n",
    "    def output(self, x, y):\n",
    "        fd = {}\n",
    "        for i in range(self.en_max_len):\n",
    "            fd[self.enc_inputs[i]] = x[i]\n",
    "\n",
    "        for i in range(self.ch_max_len):\n",
    "            fd[self.dec_inputs[i]] = y[i]\n",
    "\n",
    "        out = self.sess.run(self.outputs, fd)\n",
    "        return out\n",
    "\n",
    "    def predict(self, x, ch_beg):\n",
    "        fd = {}\n",
    "        for i in range(self.en_max_len):\n",
    "            fd[self.enc_inputs[i]] = x[i]\n",
    "\n",
    "        for i in range(self.ch_max_len):  # when feed previous, the fist token should be '<BEG>', and others are useless\n",
    "            if i == 0:\n",
    "                fd[self.dec_inputs[i]] = np.ones(x[i].shape, dtype=np.int32) * ch_beg\n",
    "            else:\n",
    "                fd[self.dec_inputs[i]] = np.zeros(x[i].shape, dtype=np.int32)\n",
    "\n",
    "        pd = self.sess.run(self.predictions, fd)\n",
    "\n",
    "        return pd\n",
    "\n",
    "    def save(self, e):\n",
    "        self.saver.save(self.sess, './model/chatbox/chatbox%d.ckpt' % (e + 1))\n",
    "\n",
    "    def restore(self, e):\n",
    "        self.saver.restore(self.sess, './model/chatbox/chatbox%d.ckpt' % (e))"
   ]
  },
  {
   "cell_type": "code",
   "execution_count": 34,
   "metadata": {},
   "outputs": [],
   "source": [
    "tf.reset_default_graph()\n",
    "model = ChatBox(max_length, max_length, len(word_dict), len(word_dict))"
   ]
  },
  {
   "cell_type": "code",
   "execution_count": 35,
   "metadata": {
    "collapsed": true
   },
   "outputs": [],
   "source": [
    "batch = BatchGenerator(question_short, ans_short, word_dict['<PAD>'], word_dict['<PAD>'], max_length, max_length, BATCH_SIZE)"
   ]
  },
  {
   "cell_type": "code",
   "execution_count": 36,
   "metadata": {},
   "outputs": [
    {
     "name": "stdout",
     "output_type": "stream",
     "text": [
      "#Epoch:  1\n",
      "#Epoch:  2\n",
      "#Epoch:  3\n",
      "#Epoch:  4\n",
      "#Epoch:  5\n",
      "#Epoch:  6\n",
      "#Epoch:  7\n",
      "#Epoch:  8\n",
      "#Epoch:  9\n",
      "#Epoch:  10\n",
      "#Epoch:  11\n",
      "#Epoch:  12\n",
      "#Epoch:  13\n",
      "#Epoch:  14\n",
      "#Epoch:  15\n",
      "#Epoch:  16\n",
      "#Epoch:  17\n",
      "#Epoch:  18\n",
      "#Epoch:  19\n",
      "#Epoch:  20\n",
      "#Epoch:  21\n",
      "#Epoch:  22\n",
      "#Epoch:  23\n",
      "#Epoch:  24\n",
      "#Epoch:  25\n",
      "#Epoch:  26\n",
      "#Epoch:  27\n",
      "#Epoch:  28\n",
      "#Epoch:  29\n",
      "#Epoch:  30\n",
      "#Epoch:  31\n",
      "#Epoch:  32\n",
      "#Epoch:  33\n",
      "#Epoch:  34\n",
      "#Epoch:  35\n",
      "#Epoch:  36\n",
      "#Epoch:  37\n",
      "#Epoch:  38\n",
      "#Epoch:  39\n",
      "#Epoch:  40\n",
      "Wall time: 18h 21min 6s\n"
     ]
    }
   ],
   "source": [
    "%%time\n",
    "rec_loss = []\n",
    "batch_num = len(ans_short)//BATCH_SIZE\n",
    "\n",
    "with tf.device('/gpu:0'):\n",
    "    for e in range(EPOCHS):\n",
    "        train_loss = 0\n",
    "        print('#Epoch: ', e+1)\n",
    "        for b in range(batch_num):\n",
    "            x, y, g, w = batch.get(b)\n",
    "            batch_loss = model.train(x, y, g, w)\n",
    "            train_loss += batch_loss\n",
    "\n",
    "        train_loss /= batch_num\n",
    "        rec_loss.append(train_loss)\n",
    "        model.save(e)"
   ]
  },
  {
   "cell_type": "code",
   "execution_count": 37,
   "metadata": {
    "collapsed": true
   },
   "outputs": [],
   "source": [
    "np.save('./model/chatbox/rec_loss.npy', rec_loss)"
   ]
  },
  {
   "cell_type": "code",
   "execution_count": 40,
   "metadata": {},
   "outputs": [
    {
     "data": {
      "image/png": "[encoded data removed]",
      "text/plain": [
       "<matplotlib.figure.Figure at 0x1370b051a90>"
      ]
     },
     "metadata": {},
     "output_type": "display_data"
    }
   ],
   "source": [
    "rec_loss = np.load('./model/chatbox/rec_loss.npy')\n",
    "\n",
    "import matplotlib.pyplot as plt\n",
    "\n",
    "plt_loss = plt.plot([rec_loss[i] for i in range(len(rec_loss))])\n",
    "plt.legend(['Loss'])\n",
    "plt.show()"
   ]
  },
  {
   "cell_type": "markdown",
   "metadata": {},
   "source": [
    "經過 40 個 epochs，從 learning curve 可以發現 loss 有 converge。"
   ]
  },
  {
   "cell_type": "markdown",
   "metadata": {},
   "source": [
    "## Cherry pick"
   ]
  },
  {
   "cell_type": "code",
   "execution_count": 38,
   "metadata": {
    "collapsed": true
   },
   "outputs": [],
   "source": [
    "import nltk\n",
    "\n",
    "\n",
    "def cherry_pick(records, n, upper_bound=1.0):\n",
    "    bleus = []\n",
    "\n",
    "    for en, ch_gr, ch_pd in records:\n",
    "        bleu = nltk.translate.bleu_score.sentence_bleu(\n",
    "            [ch_gr], ch_pd)  # caculate BLEU by nltk\n",
    "        bleus.append(bleu)\n",
    "\n",
    "    lst = [i for i in range(len(records)) if bleus[i] <= upper_bound]\n",
    "    lst = sorted(lst, key=lambda i: bleus[i], reverse=True)  # sort by BLEU score\n",
    "\n",
    "    return [records[lst[i]] for i in range(n)]"
   ]
  },
  {
   "cell_type": "code",
   "execution_count": 46,
   "metadata": {},
   "outputs": [
    {
     "name": "stdout",
     "output_type": "stream",
     "text": [
      "what think of the\n",
      "nice voice\n",
      "nice voice\n",
      "\n",
      "and you must be look the since wild bill they say what do you think should i hate him\n",
      "age\n",
      "age\n",
      "\n",
      "enough never\n",
      "wrong\n",
      "wrong\n",
      "\n",
      "i wonder how that\n",
      "turn it down\n",
      "turn it down\n",
      "\n",
      "what did you do to those people\n",
      "nothing\n",
      "nothing\n",
      "\n",
      "to experience beyond anything ever known at least what i was promised when i bought it pleasure from heaven or hell i much care which\n",
      "hell\n",
      "hell\n",
      "\n",
      "heard you had quite a night\n",
      "yeah\n",
      "yeah\n",
      "\n",
      "no i have only activated your cognitive and communication\n",
      "why\n",
      "why\n",
      "\n",
      "it appears to from us\n",
      "from enterprise\n",
      "from enterprise\n",
      "\n",
      "what about\n",
      "forget him\n",
      "forget about the\n",
      "\n",
      "listen not like he makes you feel like you belong and good it really is i wish i could do something about this but i i can promise you only two things always look this good i give up on you ever\n",
      "i like that\n",
      "i guess i can\n",
      "\n",
      "i guess i kind of lost sight of things may the wind always be at your back and the sun always upon your face and the of carry you to dance with the stars love george\n",
      "that was a beautiful message\n",
      "so you could be a little\n",
      "\n"
     ]
    },
    {
     "name": "stderr",
     "output_type": "stream",
     "text": [
      "C:\\Users\\Rohan\\Anaconda3\\lib\\site-packages\\nltk\\translate\\bleu_score.py:490: UserWarning: \n",
      "Corpus/Sentence contains 0 counts of 3-gram overlaps.\n",
      "BLEU scores might be undesirable; use SmoothingFunction().\n",
      "  warnings.warn(_msg)\n",
      "C:\\Users\\Rohan\\Anaconda3\\lib\\site-packages\\nltk\\translate\\bleu_score.py:490: UserWarning: \n",
      "Corpus/Sentence contains 0 counts of 2-gram overlaps.\n",
      "BLEU scores might be undesirable; use SmoothingFunction().\n",
      "  warnings.warn(_msg)\n",
      "C:\\Users\\Rohan\\Anaconda3\\lib\\site-packages\\nltk\\translate\\bleu_score.py:490: UserWarning: \n",
      "Corpus/Sentence contains 0 counts of 4-gram overlaps.\n",
      "BLEU scores might be undesirable; use SmoothingFunction().\n",
      "  warnings.warn(_msg)\n"
     ]
    }
   ],
   "source": [
    "import random as rd\n",
    "\n",
    "records = []\n",
    "\n",
    "for i in range(10):\n",
    "    i = rd.randint(0, batch_num - 1)  # random pick one to translate\n",
    "\n",
    "    x, y, g, w = batch.get(i)\n",
    "    out = model.output(x, y)\n",
    "    pd = model.predict(x, word_dict['<BEG>'])\n",
    "    \n",
    "    for j in range(10):\n",
    "        j = rd.randint(0, BATCH_SIZE - 1)\n",
    "\n",
    "        en = [idx_dict[x[i][j]] for i in range(max_length)]\n",
    "        en = en[:en.index('<PAD>')]\n",
    "        ch_gr = [idx_dict[g[i][j]] for i in range(max_length)]\n",
    "        if '<END>' in ch_gr:\n",
    "            ch_gr = ch_gr[:ch_gr.index('<END>')]\n",
    "        ch_pd = [idx_dict[np.argmax(pd[i][j, :])] for i in range(max_length)]\n",
    "        if '<END>' in ch_pd:\n",
    "            ch_pd = ch_pd[:ch_pd.index('<END>')]\n",
    "\n",
    "        records.append([en, ch_gr, ch_pd])\n",
    "\n",
    "n = 12  # how many result we show\n",
    "rec_cherry = cherry_pick(records, n)\n",
    "\n",
    "for i in range(n):\n",
    "    for j in range(3):\n",
    "        print(' '.join(rec_cherry[i][j]))\n",
    "\n",
    "    print('')"
   ]
  },
  {
   "cell_type": "code",
   "execution_count": null,
   "metadata": {
    "collapsed": true
   },
   "outputs": [],
   "source": []
  }
 ],
 "metadata": {
  "kernelspec": {
   "display_name": "Python 3",
   "language": "python",
   "name": "python3"
  },
  "language_info": {
   "codemirror_mode": {
    "name": "ipython",
    "version": 3
   },
   "file_extension": ".py",
   "mimetype": "text/x-python",
   "name": "python",
   "nbconvert_exporter": "python",
   "pygments_lexer": "ipython3",
   "version": "3.6.3"
  }
 },
 "nbformat": 4,
 "nbformat_minor": 2
}
