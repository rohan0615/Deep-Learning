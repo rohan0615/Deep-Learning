{
 "cells": [
  {
   "cell_type": "code",
   "execution_count": 82,
   "metadata": {
    "collapsed": true
   },
   "outputs": [],
   "source": [
    "import pandas as pd\n",
    "import numpy as np\n",
    "import matplotlib.pyplot as plt\n",
    "from sklearn.metrics import accuracy_score"
   ]
  },
  {
   "cell_type": "markdown",
   "metadata": {},
   "source": [
    "先將 data load 進來，並做 preprocessing。  \n",
    "在 $\\mathrm{X}$ 中，我們發現 PTS_TYPE 這一個 feature 本身只有兩種值，也就是兩分球或三分球，所以我就把兩分球當作 $0$，三分球當作 $1$ 來考慮。\n"
   ]
  },
  {
   "cell_type": "code",
   "execution_count": 83,
   "metadata": {},
   "outputs": [
    {
     "name": "stdout",
     "output_type": "stream",
     "text": [
      "   PERIOD  GAME_CLOCK  SHOT_CLOCK  DRIBBLES  TOUCH_TIME  SHOT_DIST  PTS_TYPE  \\\n",
      "0       2         557        15.5         0         0.7        2.1         0   \n",
      "1       2         151        20.1         0         0.8        2.7         0   \n",
      "2       3         448        14.2         0         0.8        5.1         0   \n",
      "3       1         279        10.6         0         0.6        1.9         0   \n",
      "\n",
      "   CLOSE_DEF_DIST  \n",
      "0             0.0  \n",
      "1             3.4  \n",
      "2             0.1  \n",
      "3             2.7  \n",
      "   FGM\n",
      "0    1\n",
      "1    1\n",
      "2    0\n",
      "3    1\n"
     ]
    }
   ],
   "source": [
    "X = pd.read_csv('./data/nba/X_train.csv')\n",
    "y = pd.read_csv('./data/nba/y_train.csv')\n",
    "\n",
    "X['PTS_TYPE'] = np.where(X['PTS_TYPE']==3, 1, 0)\n",
    "print(X[:4])\n",
    "print(y[:4])\n",
    "X_load = X.as_matrix()\n",
    "y_load = y.as_matrix().squeeze()"
   ]
  },
  {
   "cell_type": "code",
   "execution_count": 84,
   "metadata": {
    "collapsed": true
   },
   "outputs": [],
   "source": [
    "X5_load = np.hstack((X['GAME_CLOCK'][:, np.newaxis],\n",
    "                  X['SHOT_DIST'][:, np.newaxis], \n",
    "                  X['SHOT_CLOCK'][:, np.newaxis],\n",
    "                  X['CLOSE_DEF_DIST'][:, np.newaxis],\n",
    "                  X['TOUCH_TIME'][:, np.newaxis]))"
   ]
  },
  {
   "cell_type": "markdown",
   "metadata": {},
   "source": [
    "接著把 data 分出 train 和 validation。"
   ]
  },
  {
   "cell_type": "code",
   "execution_count": 85,
   "metadata": {},
   "outputs": [
    {
     "name": "stdout",
     "output_type": "stream",
     "text": [
      "# Training data: 36679\n",
      "# Validation data: 15720\n",
      "labels: [0 1]\n"
     ]
    }
   ],
   "source": [
    "from sklearn.model_selection import train_test_split \n",
    "\n",
    "X_train, X_val, y_train, y_val = train_test_split(X_load, y_load, test_size=0.3, random_state=0)\n",
    "\n",
    "print('# Training data: %d' % X_train.shape[0])\n",
    "print('# Validation data: %d' % X_val.shape[0])\n",
    "print('labels: %s' % np.unique(y_val))"
   ]
  },
  {
   "cell_type": "code",
   "execution_count": 86,
   "metadata": {
    "collapsed": true
   },
   "outputs": [],
   "source": [
    "X5_train, X5_val, y5_train, y5_val = train_test_split(X5_load, y_load, test_size=0.3, random_state=0)"
   ]
  },
  {
   "cell_type": "markdown",
   "metadata": {},
   "source": [
    "將 training 和 validation data 做 z-normalization。"
   ]
  },
  {
   "cell_type": "code",
   "execution_count": 87,
   "metadata": {
    "collapsed": true
   },
   "outputs": [],
   "source": [
    "from sklearn.preprocessing import StandardScaler\n",
    "sc = StandardScaler()\n",
    "sc.fit(X_train)\n",
    "\n",
    "X_train_std = sc.transform(X_train)\n",
    "X_val_std = sc.transform(X_val)"
   ]
  },
  {
   "cell_type": "code",
   "execution_count": 88,
   "metadata": {
    "collapsed": true
   },
   "outputs": [],
   "source": [
    "sc5 = StandardScaler()\n",
    "sc5.fit(X5_train)\n",
    "X5_train_std = sc5.transform(X5_train)\n",
    "X5_val_std = sc5.transform(X5_val)"
   ]
  },
  {
   "cell_type": "markdown",
   "metadata": {},
   "source": [
    "### How I evaluate my model\n",
    "對於每個 model，我 train 完後，會利用 validation set 來比對 predict 出來的值，並計算出 accuracy 和 misclassified samples。  \n",
    "若 model 是 regression，若 predict 出來的結果 $\\ge 0.5$，我就取 $1$；反之則取 $0$。"
   ]
  },
  {
   "cell_type": "code",
   "execution_count": 89,
   "metadata": {
    "collapsed": true
   },
   "outputs": [],
   "source": [
    "# 準備記錄下每個 model 的 performance\n",
    "best_model = {}\n",
    "best_5D_model = {}"
   ]
  },
  {
   "cell_type": "markdown",
   "metadata": {},
   "source": [
    "# Decision Tree"
   ]
  },
  {
   "cell_type": "code",
   "execution_count": 90,
   "metadata": {
    "collapsed": true
   },
   "outputs": [],
   "source": [
    "from sklearn.tree import DecisionTreeClassifier"
   ]
  },
  {
   "cell_type": "code",
   "execution_count": 91,
   "metadata": {},
   "outputs": [
    {
     "name": "stdout",
     "output_type": "stream",
     "text": [
      "Misclassified samples: 6036\n",
      "Decision Tree Accuracy: 0.62\n"
     ]
    }
   ],
   "source": [
    "tree = DecisionTreeClassifier(criterion='entropy', \n",
    "                              max_depth=3, \n",
    "                              random_state=0)\n",
    "tree.fit(X_train_std, y_train)\n",
    "\n",
    "y_pred = tree.predict(X_val_std)\n",
    "\n",
    "print('Misclassified samples: %d' % (y_val != y_pred).sum())\n",
    "print('Decision Tree Accuracy: %.2f' % accuracy_score(y_val, y_pred))\n",
    "best_model['Decision_Tree'] = (y_val != y_pred).sum()\n",
    "\n",
    "# 5 features\n",
    "tree5 = DecisionTreeClassifier(criterion='entropy', \n",
    "                              max_depth=3, \n",
    "                              random_state=0)\n",
    "tree5.fit(X5_train_std, y5_train)\n",
    "\n",
    "y5_pred = tree5.predict(X5_val_std)\n",
    "best_5D_model['Decision_Tree'] = (y5_val != y5_pred).sum()"
   ]
  },
  {
   "cell_type": "markdown",
   "metadata": {},
   "source": [
    "# Random Forest"
   ]
  },
  {
   "cell_type": "code",
   "execution_count": 92,
   "metadata": {
    "collapsed": true
   },
   "outputs": [],
   "source": [
    "from sklearn.ensemble import RandomForestClassifier"
   ]
  },
  {
   "cell_type": "code",
   "execution_count": 93,
   "metadata": {},
   "outputs": [
    {
     "name": "stdout",
     "output_type": "stream",
     "text": [
      "Misclassified samples: 6278\n",
      "Random Forest Accuracy: 0.60\n"
     ]
    }
   ],
   "source": [
    "forest = RandomForestClassifier(criterion='entropy',\n",
    "                                n_estimators=200, \n",
    "                                random_state=1,\n",
    "                                n_jobs=2)\n",
    "forest.fit(X_train_std, y_train)\n",
    "\n",
    "y_pred = forest.predict(X_val_std)\n",
    "print('Misclassified samples: %d' % (y_val != y_pred).sum())\n",
    "print('Random Forest Accuracy: %.2f' % accuracy_score(y_val, y_pred))\n",
    "best_model['Random_Forest'] = (y_val != y_pred).sum()\n",
    "\n",
    "# 5 features\n",
    "forest5 = RandomForestClassifier(criterion='entropy',\n",
    "                                n_estimators=200, \n",
    "                                random_state=1,\n",
    "                                n_jobs=2)\n",
    "forest5.fit(X5_train_std, y5_train)\n",
    "\n",
    "y5_pred = forest5.predict(X5_val_std)\n",
    "best_5D_model['Random_Forest'] = (y5_val != y5_pred).sum()"
   ]
  },
  {
   "cell_type": "markdown",
   "metadata": {},
   "source": [
    "# Perceptron"
   ]
  },
  {
   "cell_type": "code",
   "execution_count": 94,
   "metadata": {},
   "outputs": [
    {
     "name": "stdout",
     "output_type": "stream",
     "text": [
      "Misclassified samples: 6526\n",
      "Accuracy: 0.58\n"
     ]
    }
   ],
   "source": [
    "from sklearn.linear_model import Perceptron\n",
    "\n",
    "ppn = Perceptron(n_iter=30, eta0=0.00001, random_state=0)\n",
    "ppn.fit(X_train_std, y_train)\n",
    "\n",
    "y_pred = ppn.predict(X_val_std)\n",
    "print('Misclassified samples: %d' % (y_val != y_pred).sum())\n",
    "print('Accuracy: %.2f' % accuracy_score(y_val, y_pred))\n",
    "best_model['Perceptron'] = (y_val != y_pred).sum()\n",
    "\n",
    "# 5 features\n",
    "ppn5 = Perceptron(n_iter=30, eta0=0.00001, random_state=0)\n",
    "ppn5.fit(X5_train_std, y5_train)\n",
    "\n",
    "y5_pred = ppn5.predict(X5_val_std)\n",
    "best_5D_model['Perceptron'] = (y5_val != y5_pred).sum()"
   ]
  },
  {
   "cell_type": "markdown",
   "metadata": {},
   "source": [
    "# Adaline with GD"
   ]
  },
  {
   "cell_type": "code",
   "execution_count": 95,
   "metadata": {
    "collapsed": true
   },
   "outputs": [],
   "source": [
    "class AdalineGD(object):\n",
    "    \"\"\"ADAptive LInear NEuron classifier.\n",
    "\n",
    "    Parameters\n",
    "    ------------\n",
    "    eta : float\n",
    "        Learning rate (between 0.0 and 1.0)\n",
    "    n_iter : int\n",
    "        Passes over the training dataset.\n",
    "    random_state : int\n",
    "        The seed of the pseudo random number generator.\n",
    "\n",
    "    Attributes\n",
    "    -----------\n",
    "    w_ : 1d-array\n",
    "        Weights after fitting.\n",
    "    errors_ : list\n",
    "        Number of misclassifications in every epoch.\n",
    "\n",
    "    \"\"\"\n",
    "    def __init__(self, eta=0.01, n_iter=50, random_state=1):\n",
    "        self.eta = eta\n",
    "        self.n_iter = n_iter\n",
    "        self.random_state = random_state\n",
    "\n",
    "    def fit(self, X, y):\n",
    "        \"\"\" Fit training data.\n",
    "\n",
    "        Parameters\n",
    "        ----------\n",
    "        X : {array-like}, shape = [n_samples, n_features]\n",
    "            Training vectors, where n_samples is the number of samples and\n",
    "            n_features is the number of features.\n",
    "        y : array-like, shape = [n_samples]\n",
    "            Target values.\n",
    "\n",
    "        Returns\n",
    "        -------\n",
    "        self : object\n",
    "\n",
    "        \"\"\"\n",
    "        rgen = np.random.RandomState(self.random_state)\n",
    "        self.w_ = rgen.normal(loc=0.0, scale=0.01, size=1 + X.shape[1])\n",
    "        self.cost_ = []\n",
    "\n",
    "        for i in range(self.n_iter):\n",
    "            output = self.activation(X)\n",
    "            errors = (y - output)\n",
    "            self.w_[1:] += self.eta * X.T.dot(errors)\n",
    "            self.w_[0] += self.eta * errors.sum()\n",
    "            cost = (errors**2).sum() / 2.0\n",
    "            self.cost_.append(cost)\n",
    "        return self\n",
    "\n",
    "    def net_input(self, X):\n",
    "        \"\"\"Calculate net input\"\"\"\n",
    "        return np.dot(X, self.w_[1:]) + self.w_[0]\n",
    "\n",
    "    def activation(self, X):\n",
    "        \"\"\"Compute linear activation\"\"\"\n",
    "        return self.net_input(X)\n",
    "\n",
    "    def predict(self, X):\n",
    "        \"\"\"Return class label after unit step\"\"\"\n",
    "        return np.where(self.activation(X) >= 0.5, 1, 0)"
   ]
  },
  {
   "cell_type": "code",
   "execution_count": 96,
   "metadata": {},
   "outputs": [
    {
     "data": {
      "image/png": "[encoded data removed]",
      "text/plain": [
       "<matplotlib.figure.Figure at 0x23e35dec7b8>"
      ]
     },
     "metadata": {},
     "output_type": "display_data"
    },
    {
     "name": "stdout",
     "output_type": "stream",
     "text": [
      "Misclassified samples: 6088\n",
      "Accuracy: 0.61\n"
     ]
    }
   ],
   "source": [
    "ada = AdalineGD(n_iter=30, eta=0.00001)\n",
    "ada.fit(X_train_std, y_train)\n",
    "\n",
    "plt.plot(range(1, len(ada.cost_) + 1), ada.cost_, marker='o')\n",
    "plt.xlabel('Epochs')\n",
    "plt.ylabel('Sum-squared-error')\n",
    "plt.tight_layout()\n",
    "plt.show()\n",
    "\n",
    "y_pred = ada.predict(X_val_std)\n",
    "print('Misclassified samples: %d' % (y_val != y_pred).sum())\n",
    "print('Accuracy: %.2f' % accuracy_score(y_val, y_pred))\n",
    "best_model['AdalineGD'] = (y_val != y_pred).sum()\n",
    "\n",
    "\n",
    "# 5 features\n",
    "ada5 =  AdalineGD(n_iter=30, eta=0.00001)\n",
    "ada5.fit(X5_train_std, y5_train)\n",
    "\n",
    "y5_pred = ada5.predict(X5_val_std)\n",
    "best_5D_model['AdalineGD'] = (y5_val != y5_pred).sum()"
   ]
  },
  {
   "cell_type": "markdown",
   "metadata": {},
   "source": [
    "# Adaline with SGD"
   ]
  },
  {
   "cell_type": "code",
   "execution_count": 97,
   "metadata": {
    "collapsed": true
   },
   "outputs": [],
   "source": [
    "from numpy.random import seed\n",
    "\n",
    "class AdalineSGD(object):\n",
    "    \"\"\"ADAptive LInear NEuron classifier.\n",
    "\n",
    "    Parameters\n",
    "    ------------\n",
    "    eta : float\n",
    "        Learning rate (between 0.0 and 1.0)\n",
    "    n_iter : int\n",
    "        Passes over the training dataset.\n",
    "\n",
    "    Attributes\n",
    "    -----------\n",
    "    w_ : 1d-array\n",
    "        Weights after fitting.\n",
    "    errors_ : list\n",
    "        Number of misclassifications in every epoch.\n",
    "    shuffle : bool (default: True)\n",
    "        Shuffles training data every epoch if True to prevent cycles.\n",
    "    random_state : int\n",
    "        Set random state for shuffling and initializing the weights.\n",
    "        \n",
    "    \"\"\"\n",
    "    def __init__(self, eta=0.01, n_iter=50, shuffle=True, random_state=1):\n",
    "        self.eta = eta\n",
    "        self.n_iter = n_iter\n",
    "        self.w_initialized = False\n",
    "        self.shuffle = shuffle\n",
    "        if random_state:\n",
    "            seed(random_state)\n",
    "        \n",
    "    def fit(self, X, y):\n",
    "        \"\"\" Fit training data.\n",
    "\n",
    "        Parameters\n",
    "        ----------\n",
    "        X : {array-like}, shape = [n_samples, n_features]\n",
    "            Training vectors, where n_samples is the number of samples and\n",
    "            n_features is the number of features.\n",
    "        y : array-like, shape = [n_samples]\n",
    "            Target values.\n",
    "\n",
    "        Returns\n",
    "        -------\n",
    "        self : object\n",
    "\n",
    "        \"\"\"\n",
    "        self._initialize_weights(X.shape[1])\n",
    "        self.cost_ = []\n",
    "        for i in range(self.n_iter):\n",
    "            if self.shuffle:\n",
    "                X, y = self._shuffle(X, y)\n",
    "            cost = []\n",
    "            for xi, target in zip(X, y):\n",
    "                cost.append(self._update_weights(xi, target))\n",
    "            avg_cost = sum(cost) / len(y)\n",
    "            self.cost_.append(avg_cost)\n",
    "        return self\n",
    "\n",
    "    def _shuffle(self, X, y):\n",
    "        \"\"\"Shuffle training data\"\"\"\n",
    "        r = np.random.permutation(len(y))\n",
    "        return X[r], y[r]\n",
    "    \n",
    "    def _initialize_weights(self, m):\n",
    "        \"\"\"Randomly initialize weights\"\"\"\n",
    "        self.w_ = np.random.normal(loc=0.0, scale=0.01, size=1 + m)\n",
    "        self.w_initialized = True\n",
    "        \n",
    "    def _update_weights(self, xi, target):\n",
    "        \"\"\"Apply Adaline learning rule to update the weights\"\"\"\n",
    "        output = self.activation(xi)\n",
    "        error = (target - output)\n",
    "        self.w_[1:] += self.eta * xi.dot(error)\n",
    "        self.w_[0] += self.eta * error\n",
    "        cost = 0.5 * error**2\n",
    "        return cost\n",
    "    \n",
    "    def net_input(self, X):\n",
    "        \"\"\"Calculate net input\"\"\"\n",
    "        return np.dot(X, self.w_[1:]) + self.w_[0]\n",
    "\n",
    "    def activation(self, X):\n",
    "        \"\"\"Compute linear activation\"\"\"\n",
    "        return self.net_input(X)\n",
    "\n",
    "    def predict(self, X):\n",
    "        \"\"\"Return class label after unit step\"\"\"\n",
    "        return np.where(self.activation(X) >= 0.5, 1, 0)\n",
    "\n",
    "    def partial_fit(self, X, y):\n",
    "        \"\"\"Fit training data without reinitializing the weights\"\"\"\n",
    "        if not self.w_initialized:\n",
    "            self._initialize_weights(X.shape[1])\n",
    "        if y.ravel().shape[0] > 1:\n",
    "            for xi, target in zip(X, y):\n",
    "                self._update_weights(xi, target)\n",
    "        else:\n",
    "            self._update_weights(X, y)\n",
    "        return self"
   ]
  },
  {
   "cell_type": "code",
   "execution_count": 98,
   "metadata": {},
   "outputs": [
    {
     "data": {
      "image/png": "[encoded data removed]",
      "text/plain": [
       "<matplotlib.figure.Figure at 0x23e35e43828>"
      ]
     },
     "metadata": {},
     "output_type": "display_data"
    },
    {
     "name": "stdout",
     "output_type": "stream",
     "text": [
      "Misclassified samples: 6087\n",
      "Accuracy: 0.61\n"
     ]
    }
   ],
   "source": [
    "adas = AdalineSGD(n_iter=50, eta=0.00001, random_state=0)\n",
    "adas.fit(X_train_std, y_train)\n",
    "\n",
    "plt.plot(range(1, len(adas.cost_) + 1), adas.cost_, \n",
    "         marker='o', label='SGD')\n",
    "plt.xlabel('Epochs')\n",
    "plt.ylabel('Sum-squared-error')\n",
    "plt.legend(loc='upper right')\n",
    "plt.tight_layout()\n",
    "plt.show()\n",
    "\n",
    "# testing accuracy\n",
    "\n",
    "y_pred = adas.predict(X_val_std)\n",
    "print('Misclassified samples: %d' % (y_val != y_pred).sum())\n",
    "print('Accuracy: %.2f' % accuracy_score(y_val, y_pred))\n",
    "best_model['AdalineSGD'] = (y_val != y_pred).sum()\n",
    "\n",
    "\n",
    "# 5 features\n",
    "adas5 =  AdalineSGD(n_iter=50, eta=0.00001, random_state=0)\n",
    "adas5.fit(X5_train_std, y5_train)\n",
    "\n",
    "y5_pred = adas5.predict(X5_val_std)\n",
    "best_5D_model['AdalineSGD'] = (y5_val != y5_pred).sum()"
   ]
  },
  {
   "cell_type": "markdown",
   "metadata": {},
   "source": [
    "# Linear Regression"
   ]
  },
  {
   "cell_type": "code",
   "execution_count": 99,
   "metadata": {},
   "outputs": [
    {
     "name": "stdout",
     "output_type": "stream",
     "text": [
      "Misclassified samples: 6086\n",
      "Accuracy: 0.61\n"
     ]
    }
   ],
   "source": [
    "from sklearn.linear_model import LinearRegression\n",
    "\n",
    "lr = LinearRegression()\n",
    "# fit -> training\n",
    "lr.fit(X_train_std, y_train)\n",
    "\n",
    "y_pred_tmp = lr.predict(X_val_std)\n",
    "y_pred = np.where(y_pred_tmp>=0.5, 1, 0)\n",
    "print('Misclassified samples: %d' % (y_val != y_pred).sum())\n",
    "print('Accuracy: %.2f' % accuracy_score(y_val, y_pred))\n",
    "best_model['LR'] = (y_val != y_pred).sum()\n",
    "\n",
    "# 5 features\n",
    "lr5 = LinearRegression()\n",
    "lr5.fit(X5_train_std, y5_train)\n",
    "\n",
    "y5_pred_tmp = lr5.predict(X5_val_std)\n",
    "y5_pre = np.where(y_pred_tmp>=0.5, 1, 0)\n",
    "best_5D_model['LR'] = (y5_val != y5_pred).sum()"
   ]
  },
  {
   "cell_type": "markdown",
   "metadata": {},
   "source": [
    "# Polynomial Regression"
   ]
  },
  {
   "cell_type": "code",
   "execution_count": 100,
   "metadata": {},
   "outputs": [
    {
     "name": "stdout",
     "output_type": "stream",
     "text": [
      "Degree: 2\n",
      "Misclassified samples: 5978\n",
      "Accuracy: 0.62\n",
      "Degree: 3\n",
      "Misclassified samples: 5973\n",
      "Accuracy: 0.62\n",
      "Degree: 5\n",
      "Misclassified samples: 6084\n",
      "Accuracy: 0.61\n"
     ]
    }
   ],
   "source": [
    "from sklearn.preprocessing import PolynomialFeatures\n",
    "\n",
    "degree = [2, 3, 5]\n",
    "\n",
    "for d in degree:\n",
    "    poly = PolynomialFeatures(degree=d)\n",
    "    poly5 = PolynomialFeatures(degree=d)\n",
    "    \n",
    "    X_train_poly = poly.fit_transform(X_train_std)\n",
    "    X_val_poly = poly.fit_transform(X_val_std)\n",
    "    \n",
    "    X5_train_poly = poly5.fit_transform(X5_train_std)\n",
    "    X5_val_poly = poly5.fit_transform(X5_val_std)\n",
    "    # fit features\n",
    "    poly_r = LinearRegression()\n",
    "    poly_r.fit(X_train_poly, y_train)\n",
    "    \n",
    "    poly_r5 = LinearRegression()\n",
    "    poly_r5.fit(X5_train_poly, y5_train)\n",
    "    \n",
    "    y_pred_tmp = poly_r.predict(X_val_poly)\n",
    "    y_pred = np.where(y_pred_tmp>=0.5, 1, 0)\n",
    "    \n",
    "    y5_pred_tmp = poly_r5.predict(X5_val_poly)\n",
    "    y5_pred = np.where(y5_pred_tmp>=0.5, 1, 0)\n",
    "    \n",
    "    print('Degree: %d' % d)\n",
    "    print('Misclassified samples: %d' % (y_val != y_pred).sum())\n",
    "    print('Accuracy: %.2f' % accuracy_score(y_val, y_pred))\n",
    "    best_model['PR_%d' % d] = (y_val != y_pred).sum()\n",
    "    \n",
    "    best_5D_model['PR_%d' % d] = (y5_val != y5_pred).sum()"
   ]
  },
  {
   "cell_type": "markdown",
   "metadata": {},
   "source": [
    "# Decision Tree Regrssion"
   ]
  },
  {
   "cell_type": "code",
   "execution_count": 101,
   "metadata": {},
   "outputs": [
    {
     "name": "stdout",
     "output_type": "stream",
     "text": [
      "Misclassified samples: 6036\n",
      "Accuracy: 0.62\n"
     ]
    }
   ],
   "source": [
    "from sklearn.tree import DecisionTreeRegressor\n",
    "\n",
    "tree_r = DecisionTreeRegressor(max_depth=3)\n",
    "tree_r.fit(X_train_std, y_train)\n",
    "\n",
    "y_pred_tmp = tree_r.predict(X_val_std)\n",
    "y_pred = np.where(y_pred_tmp>=0.5, 1, 0)\n",
    "print('Misclassified samples: %d' % (y_val != y_pred).sum())\n",
    "print('Accuracy: %.2f' % accuracy_score(y_val, y_pred))\n",
    "best_model['Decision_Tree_Regression'] = (y_val != y_pred).sum()\n",
    "\n",
    "# 5 features\n",
    "tree_r5 = DecisionTreeRegressor(max_depth=3)\n",
    "tree_r5.fit(X5_train_std, y5_train)\n",
    "\n",
    "y5_pred_tmp = tree_r5.predict(X5_val_std)\n",
    "y5_pre = np.where(y_pred_tmp>=0.5, 1, 0)\n",
    "best_5D_model['Decision_Tree_Regression'] = (y5_val != y5_pred).sum()"
   ]
  },
  {
   "cell_type": "markdown",
   "metadata": {},
   "source": [
    "# Random Forest Regression"
   ]
  },
  {
   "cell_type": "code",
   "execution_count": 102,
   "metadata": {},
   "outputs": [
    {
     "name": "stdout",
     "output_type": "stream",
     "text": [
      "Misclassified samples: 6477\n",
      "Accuracy: 0.59\n"
     ]
    }
   ],
   "source": [
    "from sklearn.ensemble import RandomForestRegressor\n",
    "\n",
    "forest_r = RandomForestRegressor(n_estimators=200, criterion='mse', random_state=1, n_jobs=-1)\n",
    "forest_r.fit(X_train_std, y_train)\n",
    "\n",
    "y_pred_tmp = forest_r.predict(X_val_std)\n",
    "y_pred = np.where(y_pred_tmp>=0.5, 1, 0) \n",
    "\n",
    "print('Misclassified samples: %d' % (y_val != y_pred).sum())\n",
    "print('Accuracy: %.2f' % accuracy_score(y_val, y_pred))\n",
    "best_model['Random_Forest_Regression'] = (y_val != y_pred).sum()\n",
    "\n",
    "# 5 features\n",
    "forest_r5 = RandomForestRegressor(n_estimators=200, criterion='mse', random_state=1, n_jobs=-1)\n",
    "forest_r5.fit(X5_train_std, y5_train)\n",
    "\n",
    "y5_pred_tmp = forest_r5.predict(X5_val_std)\n",
    "y5_pre = np.where(y_pred_tmp>=0.5, 1, 0)\n",
    "best_5D_model['Random_Forest_Regression'] = (y5_val != y5_pred).sum()"
   ]
  },
  {
   "cell_type": "markdown",
   "metadata": {},
   "source": [
    "# Logistic Regression"
   ]
  },
  {
   "cell_type": "code",
   "execution_count": 103,
   "metadata": {},
   "outputs": [
    {
     "name": "stdout",
     "output_type": "stream",
     "text": [
      "Misclassified samples: 6085\n",
      "Accuracy: 0.61\n",
      "\n"
     ]
    }
   ],
   "source": [
    "from sklearn.linear_model import LogisticRegression\n",
    "\n",
    "logr = LogisticRegression(C=100, random_state=0)\n",
    "logr.fit(X_train_std, y_train)\n",
    "\n",
    "y_pred = logr.predict(X_val_std)\n",
    "print('Misclassified samples: %d' % (y_val != y_pred).sum())\n",
    "print('Accuracy: %.2f\\n' % accuracy_score(y_val, y_pred))\n",
    "best_model['Log_Regression'] = (y_val != y_pred).sum()\n",
    "\n",
    "# 5 features\n",
    "logr5 = LogisticRegression(C=100, random_state=0)\n",
    "logr5.fit(X5_train_std, y5_train)\n",
    "\n",
    "y5_pre = logr5.predict(X5_val_std)\n",
    "best_5D_model['Log_Regression'] = (y5_val != y5_pred).sum()"
   ]
  },
  {
   "cell_type": "markdown",
   "metadata": {},
   "source": [
    "### Best Model"
   ]
  },
  {
   "cell_type": "code",
   "execution_count": 104,
   "metadata": {},
   "outputs": [
    {
     "name": "stdout",
     "output_type": "stream",
     "text": [
      "Model: PR_3, Misclassified: 5973\n",
      "Model: PR_2, Misclassified: 5978\n",
      "Model: Decision_Tree, Misclassified: 6036\n",
      "Model: Decision_Tree_Regression, Misclassified: 6036\n",
      "Model: PR_5, Misclassified: 6084\n",
      "Model: Log_Regression, Misclassified: 6085\n",
      "Model: LR, Misclassified: 6086\n",
      "Model: AdalineSGD, Misclassified: 6087\n",
      "Model: AdalineGD, Misclassified: 6088\n",
      "Model: Random_Forest, Misclassified: 6278\n",
      "Model: Random_Forest_Regression, Misclassified: 6477\n",
      "Model: Perceptron, Misclassified: 6526\n"
     ]
    }
   ],
   "source": [
    "for k in sorted(best_model, key=best_model.get):\n",
    "    print('Model: %s, Misclassified: %d' % (k, best_model[k]))"
   ]
  },
  {
   "cell_type": "markdown",
   "metadata": {},
   "source": [
    "從結果來看， degree = 3 的 polynomial regression 的結果最好，準確率達到 0.62，同時誤判的數量最少，有 5973 個。   \n",
    "如果只考慮二元分類的 models，表現最佳的是 decision tree。  \n",
    "其中，Perceptron 表現較差，只有 0.58，我認為原因是這個問題本身的值並非 linear seperable，勉強分開只會令結果普普通通而已。"
   ]
  },
  {
   "cell_type": "code",
   "execution_count": 105,
   "metadata": {
    "collapsed": true
   },
   "outputs": [],
   "source": [
    "def mse(model, X, y):\n",
    "    return ((model.predict(X) - y)**2).mean()"
   ]
  },
  {
   "cell_type": "code",
   "execution_count": 106,
   "metadata": {},
   "outputs": [
    {
     "data": {
      "image/png": "[encoded data removed]",
      "text/plain": [
       "<matplotlib.figure.Figure at 0x23e38bde518>"
      ]
     },
     "metadata": {},
     "output_type": "display_data"
    }
   ],
   "source": [
    "from sklearn.learning_curve import learning_curve\n",
    "\n",
    "sc_load = StandardScaler()\n",
    "sc_load.fit_transform(X_load)\n",
    "X_load_std = sc_load.transform(X_load)\n",
    "\n",
    "poly = PolynomialFeatures(degree=3)\n",
    "X_load_poly = poly.fit_transform(X_load_std)\n",
    "\n",
    "poly_regr = LinearRegression()\n",
    "\n",
    "\n",
    "train_sizes, train_scores, test_scores = learning_curve(\n",
    "estimator=poly_regr, X=X_load_poly, y=y_load, scoring=mse)\n",
    "\n",
    "\n",
    "\n",
    "train_mean = np.mean(train_scores, axis=1)\n",
    "train_std = np.std(train_scores, axis=1)\n",
    "test_mean = np.mean(test_scores, axis=1)\n",
    "test_std = np.std(test_scores, axis=1)\n",
    "\n",
    "plt.plot(\n",
    "      train_sizes,\n",
    "      train_mean,\n",
    "      color='blue',\n",
    "      marker='o',\n",
    "      markersize=5,\n",
    "      label='Training error')\n",
    "plt.fill_between(\n",
    "      train_sizes,\n",
    "      train_mean + train_std,\n",
    "      train_mean - train_std,\n",
    "      alpha=0.15,\n",
    "      color='blue')\n",
    "\n",
    "plt.plot(\n",
    "      train_sizes,\n",
    "      test_mean,\n",
    "      color='green',\n",
    "      linestyle='--',\n",
    "      marker='s',\n",
    "      markersize=5,\n",
    "      label='Testing error')\n",
    "plt.fill_between(\n",
    "      train_sizes,\n",
    "      test_mean + test_std,\n",
    "      test_mean - test_std,\n",
    "      alpha=0.15,\n",
    "      color='green')\n",
    "\n",
    "plt.title('Degree %d Polynomial Regression' % 3)\n",
    "plt.grid()\n",
    "plt.xlabel('Number of training samples')\n",
    "plt.ylabel('MSE')\n",
    "plt.legend(loc='upper right')\n",
    "plt.tight_layout()\n",
    "plt.show()\n"
   ]
  },
  {
   "cell_type": "markdown",
   "metadata": {},
   "source": [
    "從 learning curve 能發現，當 data 少的時候，testing error 遠高於 training error。  \n",
    "但隨著 training samples 增加，testing error 就會漸漸下滑，最後和 training error 逐漸接近並收斂。  \n",
    "自始至終，testing error 都高於 training error。  \n",
    "因此，我認為沒有 overfitting。"
   ]
  },
  {
   "cell_type": "code",
   "execution_count": 107,
   "metadata": {},
   "outputs": [
    {
     "name": "stdout",
     "output_type": "stream",
     "text": [
      " 1) GAME_CLOCK                     0.200453\n",
      " 2) SHOT_DIST                      0.200179\n",
      " 3) SHOT_CLOCK                     0.177025\n",
      " 4) CLOSE_DEF_DIST                 0.173898\n",
      " 5) TOUCH_TIME                     0.140622\n",
      " 6) PERIOD                         0.052434\n",
      " 7) DRIBBLES                       0.048234\n",
      " 8) PTS_TYPE                       0.007156\n"
     ]
    },
    {
     "data": {
      "image/png": "[encoded data removed]",
      "text/plain": [
       "<matplotlib.figure.Figure at 0x23e35e6fac8>"
      ]
     },
     "metadata": {},
     "output_type": "display_data"
    }
   ],
   "source": [
    "importances = forest.feature_importances_\n",
    "# get sort indices in descending order\n",
    "indices = np.argsort(importances)[::-1]\n",
    "\n",
    "for f in range(X_train_std.shape[1]):\n",
    "    print(\"%2d) %-*s %f\" % (f + 1, 30, \n",
    "                            X.columns.values[indices[f]], \n",
    "                            importances[indices[f]]))\n",
    "\n",
    "plt.figure()\n",
    "plt.title('Feature Importances')\n",
    "plt.bar(range(X_train_std.shape[1]),\n",
    "        importances[indices],\n",
    "        align='center',\n",
    "        alpha=0.5)\n",
    "\n",
    "plt.xticks(range(X_train_std.shape[1]), \n",
    "           X.columns.values[indices], rotation=90)\n",
    "plt.xlim([-1, X_train_std.shape[1]])\n",
    "plt.tight_layout()\n",
    "plt.show()"
   ]
  },
  {
   "cell_type": "markdown",
   "metadata": {},
   "source": [
    "我使用了 random forests 的 feature importance 來挑 features。  \n",
    "最後能發現 **GAME_CLOCK、SHOT_DIST、SHOT_CLOCK** 這三個的重要性比較高。  \n",
    "接著我們就只用這三個 features 來試試看 accuracy。"
   ]
  },
  {
   "cell_type": "code",
   "execution_count": 108,
   "metadata": {},
   "outputs": [
    {
     "name": "stdout",
     "output_type": "stream",
     "text": [
      "#Features: 3\n",
      "[[ 557.     2.1   15.5]\n",
      " [ 151.     2.7   20.1]\n",
      " [ 448.     5.1   14.2]\n",
      " [ 279.     1.9   10.6]]\n",
      "   FGM\n",
      "0    1\n",
      "1    1\n",
      "2    0\n",
      "3    1\n"
     ]
    }
   ],
   "source": [
    "X_3D = np.hstack((X['GAME_CLOCK'][:, np.newaxis],\n",
    "                  X['SHOT_DIST'][:, np.newaxis], \n",
    "                  X['SHOT_CLOCK'][:, np.newaxis]))\n",
    "y_3D = y\n",
    "print('#Features: %d' % X_3D.shape[1])\n",
    "print(X_3D[:4])\n",
    "print(y_3D[:4])\n"
   ]
  },
  {
   "cell_type": "code",
   "execution_count": 109,
   "metadata": {},
   "outputs": [
    {
     "name": "stdout",
     "output_type": "stream",
     "text": [
      "#Training data: 36679\n",
      "#Validation data: 15720\n"
     ]
    }
   ],
   "source": [
    "X3_train, X3_val, y3_train, y3_val = train_test_split(X_3D, y_3D, test_size=0.3, random_state=0)\n",
    "print('#Training data: %d' % X3_train.shape[0])\n",
    "print('#Validation data: %d' % X3_val.shape[0])"
   ]
  },
  {
   "cell_type": "code",
   "execution_count": 110,
   "metadata": {
    "collapsed": true
   },
   "outputs": [],
   "source": [
    "sc3 = StandardScaler()\n",
    "sc3.fit(X3_train)\n",
    "\n",
    "X3_train_std = sc3.transform(X3_train)\n",
    "X3_val_std = sc3.transform(X3_val)"
   ]
  },
  {
   "cell_type": "code",
   "execution_count": 111,
   "metadata": {},
   "outputs": [
    {
     "name": "stdout",
     "output_type": "stream",
     "text": [
      "Misclassified samples: 6125\n",
      "Accuracy: 0.61\n",
      "\n"
     ]
    }
   ],
   "source": [
    "poly = PolynomialFeatures(degree=3)\n",
    "\n",
    "X3_train_poly = poly.fit_transform(X3_train_std)\n",
    "X3_val_poly = poly.fit_transform(X3_val_std)\n",
    "\n",
    "poly_regr = LinearRegression()\n",
    "poly_regr.fit(X3_train_poly, y3_train)\n",
    "\n",
    "y_pred_tmp = poly_regr.predict(X3_val_poly)\n",
    "y_pred = np.where(y_pred_tmp >= 0.5, 1, 0)\n",
    "print('Misclassified samples: %d' % (y3_val != y_pred).sum())\n",
    "print('Accuracy: %.2f\\n' % accuracy_score(y3_val, y_pred))"
   ]
  },
  {
   "cell_type": "markdown",
   "metadata": {},
   "source": [
    "最後的結果會比原先差，但是差距並不是很大。  \n",
    "結果比較差的原因，我認為是**因為我們丟掉了數個 features，其中包括了一些 importance 不低的 features**，雖然成功降低了維度，但是卻也丟掉了一些能拿來學習的資料。  "
   ]
  },
  {
   "cell_type": "markdown",
   "metadata": {},
   "source": [
    "接著，我想試試看，若我留下影響力**最高的 5 個 features**，也就是先前的三個加上 CLOSE_DEF_DIST 和 TOUCH_TIME ，會有怎樣的結果。  \n",
    "之所以會選擇 5 個，是因為前五名的影響力遠高於剩下的。"
   ]
  },
  {
   "cell_type": "code",
   "execution_count": 112,
   "metadata": {},
   "outputs": [
    {
     "name": "stdout",
     "output_type": "stream",
     "text": [
      "#Features: 5\n"
     ]
    }
   ],
   "source": [
    "print('#Features: %d' % X_5D.shape[1])\n",
    "y_5D = y.squeeze()"
   ]
  },
  {
   "cell_type": "code",
   "execution_count": 113,
   "metadata": {},
   "outputs": [
    {
     "name": "stdout",
     "output_type": "stream",
     "text": [
      "#Training data: 36679\n",
      "#Validation data: 15720\n"
     ]
    }
   ],
   "source": [
    "print('#Training data: %d' % X5_train.shape[0])\n",
    "print('#Validation data: %d' % X5_val.shape[0])"
   ]
  },
  {
   "cell_type": "code",
   "execution_count": 115,
   "metadata": {},
   "outputs": [
    {
     "name": "stdout",
     "output_type": "stream",
     "text": [
      "Misclassified samples: 5928\n",
      "Accuracy: 0.62\n",
      "\n"
     ]
    }
   ],
   "source": [
    "poly = PolynomialFeatures(degree=3)\n",
    "\n",
    "X5_train_poly = poly.fit_transform(X5_train_std)\n",
    "X5_val_poly = poly.fit_transform(X5_val_std)\n",
    "\n",
    "poly_regr = LinearRegression()\n",
    "poly_regr.fit(X5_train_poly, y5_train)\n",
    "\n",
    "y_pred_tmp = poly_regr.predict(X5_val_poly)\n",
    "y_pred = np.where(y_pred_tmp >= 0.5, 1, 0)\n",
    "print('Misclassified samples: %d' % (y5_val != y_pred).sum())\n",
    "print('Accuracy: %.2f\\n' % accuracy_score(y5_val, y_pred))"
   ]
  },
  {
   "cell_type": "markdown",
   "metadata": {},
   "source": [
    "拿出影響力最高的 5 個後，竟然發現結果比原先的好了一點，misclassified samples 從 5973 個稍微降低到 5928 個。  \n",
    "會有這樣的結果，我認為原因是被我們丟掉的那些 features 本身對於 training 的幫助有限，甚至會 learn 到一些效果不彰的 patterns，造成結果反而變差。  \n",
    "為了瞭解這是不是單純的運氣好，我決定再做一次實驗，這次的 X 只保留了 5 個影響力最高的 features，並把這個 5 個維度的 X 再拿去每個 model train 一次。\n"
   ]
  },
  {
   "cell_type": "code",
   "execution_count": 116,
   "metadata": {},
   "outputs": [
    {
     "name": "stdout",
     "output_type": "stream",
     "text": [
      "# Features: 5\n",
      "Model: PR_3, Misclassified: 5928\n",
      "Model: PR_5, Misclassified: 5963\n",
      "Model: Decision_Tree_Regression, Misclassified: 5963\n",
      "Model: Random_Forest_Regression, Misclassified: 5963\n",
      "Model: Log_Regression, Misclassified: 5963\n",
      "Model: PR_2, Misclassified: 5966\n",
      "Model: Decision_Tree, Misclassified: 6036\n",
      "Model: AdalineGD, Misclassified: 6099\n",
      "Model: AdalineSGD, Misclassified: 6103\n",
      "Model: LR, Misclassified: 6103\n",
      "Model: Random_Forest, Misclassified: 6370\n",
      "Model: Perceptron, Misclassified: 6588\n",
      "\n",
      "# Features: 8\n",
      "Model: PR_3, Misclassified: 5973\n",
      "Model: PR_2, Misclassified: 5978\n",
      "Model: Decision_Tree, Misclassified: 6036\n",
      "Model: Decision_Tree_Regression, Misclassified: 6036\n",
      "Model: PR_5, Misclassified: 6084\n",
      "Model: Log_Regression, Misclassified: 6085\n",
      "Model: LR, Misclassified: 6086\n",
      "Model: AdalineSGD, Misclassified: 6087\n",
      "Model: AdalineGD, Misclassified: 6088\n",
      "Model: Random_Forest, Misclassified: 6278\n",
      "Model: Random_Forest_Regression, Misclassified: 6477\n",
      "Model: Perceptron, Misclassified: 6526\n"
     ]
    }
   ],
   "source": [
    "print('# Features: %d' % X_5D.shape[1])\n",
    "for k in sorted(best_model, key=best_5D_model.get):\n",
    "    print('Model: %s, Misclassified: %d' % (k, best_5D_model[k]))\n",
    "print('\\n# Features: %d' % X_load.shape[1])\n",
    "for k in sorted(best_model, key=best_model.get):\n",
    "    print('Model: %s, Misclassified: %d' % (k, best_model[k]))"
   ]
  },
  {
   "cell_type": "markdown",
   "metadata": {},
   "source": [
    "從結果來看，會發現 **Regression 的方法大部分會因此受惠**。"
   ]
  },
  {
   "cell_type": "markdown",
   "metadata": {},
   "source": [
    "最後，我把我最後選的 Degree=3 的 Polynomial Regression 和 這個 feature selection 的結果，應用到 X_test 上。"
   ]
  },
  {
   "cell_type": "code",
   "execution_count": 128,
   "metadata": {},
   "outputs": [],
   "source": [
    "X_test_load = pd.read_csv('./data/nba/X_test.csv')"
   ]
  },
  {
   "cell_type": "code",
   "execution_count": 129,
   "metadata": {},
   "outputs": [
    {
     "name": "stdout",
     "output_type": "stream",
     "text": [
      "# Features: 5\n",
      "# Testing Samples: 13100\n",
      "[[ 220.    18.5   13.3   10.5   10.1]\n",
      " [   2.    25.1    0.     5.8    1.3]\n",
      " [ 375.     5.2   22.1    1.6    2.7]\n",
      " [ 597.     8.1   15.2    3.3    8.6]]\n"
     ]
    }
   ],
   "source": [
    "X_test = np.hstack((X_test_load['GAME_CLOCK'][:, np.newaxis],\n",
    "                    X_test_load['SHOT_DIST'][:, np.newaxis], \n",
    "                    X_test_load['SHOT_CLOCK'][:, np.newaxis],\n",
    "                    X_test_load['CLOSE_DEF_DIST'][:, np.newaxis],\n",
    "                    X_test_load['TOUCH_TIME'][:, np.newaxis]))\n",
    "\n",
    "print('# Features: %d' % X_test.shape[1])\n",
    "print('# Testing Samples: %d' % X_test.shape[0])\n",
    "\n",
    "print(X_test[:4])"
   ]
  },
  {
   "cell_type": "code",
   "execution_count": 130,
   "metadata": {},
   "outputs": [],
   "source": [
    "sc_final = StandardScaler()\n",
    "sc_final.fit(X5_load)\n",
    "\n",
    "X5_std = sc_final.transform(X5_load)\n",
    "X5_test_std = sc_final.transform(X_test)"
   ]
  },
  {
   "cell_type": "code",
   "execution_count": 137,
   "metadata": {},
   "outputs": [
    {
     "name": "stdout",
     "output_type": "stream",
     "text": [
      "[0 0 0 0 1 1 0 0 1 0]\n"
     ]
    }
   ],
   "source": [
    "poly = PolynomialFeatures(degree=3)\n",
    "\n",
    "X5_train_poly = poly.fit_transform(X5_std)\n",
    "X5_test_poly = poly.fit_transform(X5_test_std)\n",
    "\n",
    "poly_regr = LinearRegression()\n",
    "poly_regr.fit(X5_train_poly, y_load)\n",
    "\n",
    "y_pred_tmp = poly_regr.predict(X5_test_poly)\n",
    "y_pred_final = np.where(y_pred_tmp >= 0.5, 1, 0)\n",
    "print(y_pred_final[:10])"
   ]
  },
  {
   "cell_type": "code",
   "execution_count": 142,
   "metadata": {},
   "outputs": [
    {
     "name": "stdout",
     "output_type": "stream",
     "text": [
      "   y_pred\n",
      "0       0\n",
      "1       0\n",
      "2       0\n",
      "3       0\n",
      "4       1\n",
      "5       1\n",
      "6       0\n",
      "7       0\n",
      "8       1\n",
      "9       0\n"
     ]
    }
   ],
   "source": [
    "import csv\n",
    "prediction = pd.DataFrame(y_pred_final, columns=['y_pred'])\n",
    "out = prediction.to_csv('y_pred.csv')\n",
    "print(prediction[:10])"
   ]
  },
  {
   "cell_type": "code",
   "execution_count": null,
   "metadata": {
    "collapsed": true
   },
   "outputs": [],
   "source": []
  }
 ],
 "metadata": {
  "kernelspec": {
   "display_name": "Python 3",
   "language": "python",
   "name": "python3"
  },
  "language_info": {
   "codemirror_mode": {
    "name": "ipython",
    "version": 3
   },
   "file_extension": ".py",
   "mimetype": "text/x-python",
   "name": "python",
   "nbconvert_exporter": "python",
   "pygments_lexer": "ipython3",
   "version": "3.6.1"
  }
 },
 "nbformat": 4,
 "nbformat_minor": 2
}
