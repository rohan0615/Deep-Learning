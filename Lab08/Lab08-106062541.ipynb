{
 "cells": [
  {
   "cell_type": "code",
   "execution_count": 1,
   "metadata": {
    "collapsed": true
   },
   "outputs": [],
   "source": [
    "import csv\n",
    "import numpy as np\n",
    "import matplotlib.pyplot as plt"
   ]
  },
  {
   "cell_type": "markdown",
   "metadata": {},
   "source": [
    "## Load training and testing data"
   ]
  },
  {
   "cell_type": "code",
   "execution_count": 2,
   "metadata": {},
   "outputs": [
    {
     "name": "stdout",
     "output_type": "stream",
     "text": [
      "#Training Data and #Featrues: 738 2\n"
     ]
    }
   ],
   "source": [
    "file = open('train.csv', encoding='utf-8')\n",
    "reader = csv.reader(file)\n",
    "next(reader)\n",
    "X = np.ndarray((0, 2))\n",
    "y = np.ndarray((0,))\n",
    "y_mapping = {'Bob': 0, 'Kate': 1, 'Mark': 2, 'Sue': 3}\n",
    "i = 0\n",
    "for row in reader:\n",
    "    i += 1\n",
    "    X = np.vstack((X, np.array(row[0:2])))\n",
    "    y = np.append(y, y_mapping[row[2]])\n",
    "X_train = X.astype(np.float)\n",
    "y_train = y.astype(np.float)\n",
    "file.close()\n",
    "print('#Training Data and #Featrues: %d %d' % X_train.shape)"
   ]
  },
  {
   "cell_type": "code",
   "execution_count": 3,
   "metadata": {},
   "outputs": [
    {
     "name": "stdout",
     "output_type": "stream",
     "text": [
      "#Testing Data and #Featrues: 185 2\n"
     ]
    }
   ],
   "source": [
    "file = open('test.csv', encoding='utf-8')\n",
    "reader = csv.reader(file)\n",
    "next(reader)\n",
    "X = np.ndarray((0, 2))\n",
    "y = np.ndarray((0,))\n",
    "y_mapping = {'Bob': 0, 'Kate': 1, 'Mark': 2, 'Sue': 3}\n",
    "i = 0\n",
    "for row in reader:\n",
    "    i += 1\n",
    "    X = np.vstack((X, np.array(row[0:2])))\n",
    "    y = np.append(y, y_mapping[row[2]])\n",
    "X_test = X.astype(np.float)\n",
    "y_test = y.astype(np.float)\n",
    "file.close()\n",
    "print('#Testing Data and #Featrues: %d %d' % X_test.shape)"
   ]
  },
  {
   "cell_type": "markdown",
   "metadata": {},
   "source": [
    "有了 data 以後，接下來我會利用 K-fold CV 來進行 models 的實驗。    "
   ]
  },
  {
   "cell_type": "code",
   "execution_count": 4,
   "metadata": {
    "collapsed": true
   },
   "outputs": [],
   "source": [
    "from sklearn.model_selection import cross_val_score\n",
    "from sklearn.preprocessing import StandardScaler\n",
    "from sklearn.pipeline import Pipeline\n",
    "from sklearn.metrics import accuracy_score\n",
    "from sklearn.tree import DecisionTreeClassifier"
   ]
  },
  {
   "cell_type": "markdown",
   "metadata": {},
   "source": [
    "## KNN"
   ]
  },
  {
   "cell_type": "code",
   "execution_count": 5,
   "metadata": {
    "collapsed": true
   },
   "outputs": [],
   "source": [
    "from sklearn.neighbors import KNeighborsClassifier"
   ]
  },
  {
   "cell_type": "code",
   "execution_count": 6,
   "metadata": {},
   "outputs": [
    {
     "name": "stdout",
     "output_type": "stream",
     "text": [
      "[3-NN]\n",
      "    Validation accuracy = 0.8377\n"
     ]
    },
    {
     "data": {
      "image/png": "[encoded data removed]",
      "text/plain": [
       "<matplotlib.figure.Figure at 0x1f7b74d7518>"
      ]
     },
     "metadata": {},
     "output_type": "display_data"
    }
   ],
   "source": [
    "best_k, best_accuracy = -1, -1\n",
    "clfs = {}\n",
    "accuracy = []\n",
    "best_scores = []\n",
    "for k in range(1, 50, 1):  # experiment different hyperparameter\n",
    "    pipe = Pipeline([['sc', StandardScaler()],\n",
    "                     ['clf', KNeighborsClassifier(n_neighbors=k)]])\n",
    "    pipe.fit(X_train, y_train)\n",
    "    # K-Fold CV\n",
    "    scores = cross_val_score(pipe, X_train, y_train, cv=10)\n",
    "    accuracy.append(scores.mean())\n",
    "    if scores.mean() > best_accuracy:\n",
    "        best_k, best_accuracy = k, scores.mean()\n",
    "        best_scores = scores\n",
    "    clfs[k] = pipe\n",
    "print('[%d-NN]\\n    Validation accuracy = %.4f' % (best_k, best_accuracy))\n",
    "plt.plot(range(1, 50, 1), accuracy)\n",
    "plt.xlabel('#neighbors')\n",
    "plt.ylabel('#cv_accuracy')\n",
    "plt.show()"
   ]
  },
  {
   "cell_type": "code",
   "execution_count": 7,
   "metadata": {},
   "outputs": [
    {
     "name": "stdout",
     "output_type": "stream",
     "text": [
      "[3-NN]\n",
      "Accueacy: 0.7892\n"
     ]
    }
   ],
   "source": [
    "y_pred = clfs[best_k].predict(X_test)\n",
    "\n",
    "print('[%d-NN]' % best_k)\n",
    "print('Accueacy: %.4f' % accuracy_score(y_test, y_pred))"
   ]
  },
  {
   "cell_type": "markdown",
   "metadata": {},
   "source": [
    "## Bagging"
   ]
  },
  {
   "cell_type": "markdown",
   "metadata": {},
   "source": [
    "### Bagging + KNN"
   ]
  },
  {
   "cell_type": "code",
   "execution_count": 8,
   "metadata": {
    "collapsed": true
   },
   "outputs": [],
   "source": [
    "from sklearn.ensemble import BaggingClassifier"
   ]
  },
  {
   "cell_type": "code",
   "execution_count": 9,
   "metadata": {},
   "outputs": [
    {
     "name": "stdout",
     "output_type": "stream",
     "text": [
      "[Bagginh + KNN]\n",
      "    Validation accuracy = 0.8470\n",
      "    Testing Accuracy: 0.7892\n"
     ]
    }
   ],
   "source": [
    "knn = KNeighborsClassifier(n_neighbors=3)\n",
    "\n",
    "pipe = Pipeline([['sc', StandardScaler()],\n",
    "                 ['bag', BaggingClassifier(base_estimator=knn,\n",
    "                                           n_estimators=500,\n",
    "                                           max_samples=0.8,\n",
    "                                           bootstrap=True,\n",
    "                                           max_features=1.0,\n",
    "                                           bootstrap_features=False,\n",
    "                                           n_jobs=1,\n",
    "                                           random_state=1)]])\n",
    "pipe.fit(X_train, y_train)\n",
    "# K-Fold CV\n",
    "scores = cross_val_score(pipe, X_train, y_train, cv=10)\n",
    "print('[Bagginh + KNN]\\n    Validation accuracy = %.4f' % scores.mean())\n",
    "\n",
    "y_pred = pipe.predict(X_test)\n",
    "print('    Testing Accuracy: %.4f' % accuracy_score(y_test, y_pred))"
   ]
  },
  {
   "cell_type": "markdown",
   "metadata": {},
   "source": [
    "### Bagging + Decision Tree"
   ]
  },
  {
   "cell_type": "code",
   "execution_count": 10,
   "metadata": {},
   "outputs": [
    {
     "name": "stdout",
     "output_type": "stream",
     "text": [
      "[Bagging + Decision Tree]\n",
      "    Validation accuracy = 0.8265\n",
      "    Testing Accuracy: 0.8162\n"
     ]
    }
   ],
   "source": [
    "tree = DecisionTreeClassifier(criterion='entropy', max_depth=None, random_state=0)\n",
    "pipe = Pipeline([['sc', StandardScaler()],\n",
    "                 ['bag', BaggingClassifier(base_estimator=tree,\n",
    "                                           n_estimators=500,\n",
    "                                           max_samples=0.8,\n",
    "                                           bootstrap=True,\n",
    "                                           max_features=1.0,\n",
    "                                           bootstrap_features=False,\n",
    "                                           n_jobs=1,\n",
    "                                           random_state=1)]])\n",
    "pipe.fit(X_train, y_train)\n",
    "# K-Fold CV\n",
    "scores = cross_val_score(pipe, X_train, y_train, cv=10)\n",
    "print('[Bagging + Decision Tree]\\n    Validation accuracy = %.4f' % scores.mean())\n",
    "\n",
    "y_pred = pipe.predict(X_test)\n",
    "print('    Testing Accuracy: %.4f' % accuracy_score(y_test, y_pred))"
   ]
  },
  {
   "cell_type": "markdown",
   "metadata": {},
   "source": [
    "## Adaboost"
   ]
  },
  {
   "cell_type": "code",
   "execution_count": 11,
   "metadata": {
    "collapsed": true
   },
   "outputs": [],
   "source": [
    "from sklearn.ensemble import AdaBoostClassifier\n",
    "from sklearn.svm import SVC"
   ]
  },
  {
   "cell_type": "markdown",
   "metadata": {},
   "source": [
    "### Adaboost + Decision Tree"
   ]
  },
  {
   "cell_type": "code",
   "execution_count": 12,
   "metadata": {},
   "outputs": [
    {
     "name": "stdout",
     "output_type": "stream",
     "text": [
      "[Adaboost + KNN]\n",
      "    Validation accuracy = 0.7767\n",
      "    Testing Accuracy: 0.7676\n"
     ]
    }
   ],
   "source": [
    "tree = DecisionTreeClassifier(criterion='entropy', max_depth=None, random_state=0)\n",
    "\n",
    "pipe = Pipeline([['sc', StandardScaler()],\n",
    "                 ['ada', AdaBoostClassifier(base_estimator=tree, n_estimators=1000)]])\n",
    "pipe.fit(X_train, y_train)\n",
    "# K-Fold CV\n",
    "scores = cross_val_score(pipe, X_train, y_train, cv=10)\n",
    "print('[Adaboost + KNN]\\n    Validation accuracy = %.4f' % scores.mean())\n",
    "\n",
    "y_pred = pipe.predict(X_test)\n",
    "print('    Testing Accuracy: %.4f' % accuracy_score(y_test, y_pred))"
   ]
  },
  {
   "cell_type": "markdown",
   "metadata": {},
   "source": [
    "## Random Forest"
   ]
  },
  {
   "cell_type": "code",
   "execution_count": 13,
   "metadata": {
    "collapsed": true
   },
   "outputs": [],
   "source": [
    "from sklearn.ensemble import RandomForestClassifier"
   ]
  },
  {
   "cell_type": "code",
   "execution_count": 14,
   "metadata": {},
   "outputs": [
    {
     "name": "stdout",
     "output_type": "stream",
     "text": [
      "[Random Forest]\n",
      "    Validation accuracy = 0.8346\n",
      "    Testing Accuracy: 0.8054\n"
     ]
    }
   ],
   "source": [
    "pipe = Pipeline([['sc', StandardScaler()],\n",
    "                 ['forest', RandomForestClassifier(criterion='entropy',\n",
    "                                                   n_estimators=200, \n",
    "                                                   random_state=1,\n",
    "                                                   n_jobs=2)]])\n",
    "pipe.fit(X_train, y_train)\n",
    "scores = cross_val_score(pipe, X_train, y_train, cv=10)\n",
    "print('[Random Forest]\\n    Validation accuracy = %.4f' % scores.mean())\n",
    "y_pred = pipe.predict(X_test)\n",
    "print('    Testing Accuracy: %.4f' % accuracy_score(y_test, y_pred))"
   ]
  },
  {
   "cell_type": "markdown",
   "metadata": {},
   "source": [
    "根據實驗可以發現，Bagging 配合 Decision Tree 的表現最好。"
   ]
  },
  {
   "cell_type": "code",
   "execution_count": null,
   "metadata": {
    "collapsed": true
   },
   "outputs": [],
   "source": []
  }
 ],
 "metadata": {
  "kernelspec": {
   "display_name": "Python 3",
   "language": "python",
   "name": "python3"
  },
  "language_info": {
   "codemirror_mode": {
    "name": "ipython",
    "version": 3
   },
   "file_extension": ".py",
   "mimetype": "text/x-python",
   "name": "python",
   "nbconvert_exporter": "python",
   "pygments_lexer": "ipython3",
   "version": "3.6.1"
  }
 },
 "nbformat": 4,
 "nbformat_minor": 2
}
