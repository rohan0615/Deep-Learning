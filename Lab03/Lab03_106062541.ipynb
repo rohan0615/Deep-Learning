{
 "cells": [
  {
   "cell_type": "code",
   "execution_count": 27,
   "metadata": {
    "collapsed": true
   },
   "outputs": [],
   "source": [
    "from sklearn.tree import DecisionTreeClassifier\n",
    "from sklearn.model_selection import train_test_split\n",
    "from sklearn.datasets import load_breast_cancer\n",
    "import pandas as pd\n",
    "from sklearn.metrics import accuracy_score\n",
    "from sklearn.ensemble import RandomForestClassifier"
   ]
  },
  {
   "cell_type": "code",
   "execution_count": 28,
   "metadata": {
    "collapsed": true
   },
   "outputs": [],
   "source": [
    "# load the breast_cancer dataset\n",
    "init_data = load_breast_cancer()\n",
    "(X, y) = load_breast_cancer(return_X_y=True)\n",
    "X = pd.DataFrame(data=X, columns=init_data['feature_names'])\n",
    "y = pd.DataFrame(data=y, columns=['label'])"
   ]
  },
  {
   "cell_type": "code",
   "execution_count": 29,
   "metadata": {},
   "outputs": [
    {
     "name": "stdout",
     "output_type": "stream",
     "text": [
      "\n",
      "Eigenvalues: \n",
      " [  1.33044823e-04   7.48803097e-04   1.58933787e-03   6.90046388e-03\n",
      "   8.17763986e-03   1.54812714e-02   1.80550070e-02   2.43408378e-02\n",
      "   2.74394025e-02   2.99728939e-02   3.11594025e-02   4.94775918e-02\n",
      "   5.26187835e-02   5.93990378e-02   7.98628010e-02   9.41349650e-02\n",
      "   1.57009724e-01   2.41357496e-01   2.61161370e-01   2.93915696e-01\n",
      "   3.50693457e-01   4.16894812e-01   4.76617140e-01   6.75220114e-01\n",
      "   1.20735661e+00   1.64873055e+00   1.98064047e+00   2.81794898e+00\n",
      "   5.69135461e+00   1.32816077e+01]\n",
      "\n"
     ]
    }
   ],
   "source": [
    "# Let's try PCA first\n",
    "from sklearn.preprocessing import StandardScaler\n",
    "import numpy as np\n",
    "\n",
    "# Z-Standardlization\n",
    "sc = StandardScaler()\n",
    "Z = sc.fit_transform(X)\n",
    "# Correlation Matrix\n",
    "R = np.dot(Z.T, Z) / X.shape[0]\n",
    "\n",
    "# eigenvector and eigenvalue\n",
    "eigen_vals, eigen_vecs = np.linalg.eigh(R)\n",
    "print('\\nEigenvalues: \\n %s\\n' % eigen_vals)\n",
    "#print('\\nEigenvecs: \\n %s\\n' % eigen_vecs)\n",
    "# List of (eigen_vals, eigen_vecs) tuples\n",
    "eigen_pairs = [(np.abs(eigen_vals[i]), eigen_vecs[:, i]) for i in range(len(eigen_vals))]\n",
    "eigen_pairs.sort(reverse=True)"
   ]
  },
  {
   "cell_type": "code",
   "execution_count": 30,
   "metadata": {},
   "outputs": [
    {
     "data": {
      "image/png": "[encoded data removed]",
      "text/plain": [
       "<matplotlib.figure.Figure at 0x294bdd162b0>"
      ]
     },
     "metadata": {},
     "output_type": "display_data"
    }
   ],
   "source": [
    "# Visualize\n",
    "import matplotlib.pyplot as plt\n",
    "\n",
    "tot = sum(np.abs(eigen_vals))\n",
    "var_exp = [(i / tot) for i in sorted(np.abs(eigen_vals), reverse=True)]\n",
    "cum_var_exp = np.cumsum(var_exp)\n",
    "\n",
    "plt.bar(range(1, eigen_vals.size + 1), var_exp, alpha=0.5, align='center',\n",
    "        label='Individual')\n",
    "plt.step(range(1, eigen_vals.size + 1), cum_var_exp, where='mid',\n",
    "         label='Cumulative')\n",
    "plt.ylabel('Explained variance ratio')\n",
    "plt.xlabel('Principal components')\n",
    "plt.legend(loc='best')\n",
    "plt.tight_layout()\n",
    "#plt.savefig('./output/fig-pca-var-exp.png', dpi=300)\n",
    "plt.show()"
   ]
  },
  {
   "cell_type": "code",
   "execution_count": 31,
   "metadata": {
    "collapsed": true
   },
   "outputs": [],
   "source": [
    "W_2D = np.hstack((eigen_pairs[0][1][:, np.newaxis],  # np.newaxis：改變matrix形狀\n",
    "                  eigen_pairs[1][1][:, np.newaxis]))\n",
    "\n",
    "W_3D = np.hstack((eigen_pairs[0][1][:, np.newaxis],\n",
    "                  eigen_pairs[1][1][:, np.newaxis],\n",
    "                  eigen_pairs[2][1][:, np.newaxis]))\n",
    "#print('Projection matrix W:\\n', W_3D)"
   ]
  },
  {
   "cell_type": "code",
   "execution_count": 32,
   "metadata": {},
   "outputs": [
    {
     "name": "stdout",
     "output_type": "stream",
     "text": [
      "# of Features：2\n"
     ]
    }
   ],
   "source": [
    "Z_PCA = Z.dot(W_2D)\n",
    "print('# of Features：%d' % Z_PCA.shape[1])"
   ]
  },
  {
   "cell_type": "code",
   "execution_count": 33,
   "metadata": {},
   "outputs": [
    {
     "name": "stderr",
     "output_type": "stream",
     "text": [
      "C:\\Users\\Rohan\\Anaconda3\\lib\\site-packages\\ipykernel_launcher.py:9: DataConversionWarning: A column-vector y was passed when a 1d array was expected. Please change the shape of y to (n_samples,), for example using ravel().\n",
      "  if __name__ == '__main__':\n"
     ]
    },
    {
     "name": "stdout",
     "output_type": "stream",
     "text": [
      "PCA_Accuracy: 0.91\n",
      "PCA_Accuracy per feature: 0.46\n"
     ]
    }
   ],
   "source": [
    "# split Z_PCA into training and testing sets\n",
    "Z_PCA_train, Z_PCA_test, y_PCA_train, y_PCA_test = train_test_split(Z_PCA, y, test_size=0.3, random_state=0)\n",
    "\n",
    "# Train a RandomForestClassifier as model \n",
    "forest = RandomForestClassifier(criterion='entropy',\n",
    "                                n_estimators=200, \n",
    "                                random_state=1,\n",
    "                                n_jobs=2)\n",
    "forest.fit(Z_PCA_train, y_PCA_train)\n",
    "\n",
    "y_pred = forest.predict(Z_PCA_test)\n",
    "print('PCA_Accuracy: %.2f' % accuracy_score(y_PCA_test, y_pred))\n",
    "print('PCA_Accuracy per feature: %.2f' % (accuracy_score(y_PCA_test, y_pred)/Z_PCA.shape[1]))"
   ]
  },
  {
   "cell_type": "code",
   "execution_count": 34,
   "metadata": {},
   "outputs": [
    {
     "name": "stderr",
     "output_type": "stream",
     "text": [
      "C:\\Users\\Rohan\\Anaconda3\\lib\\site-packages\\ipykernel_launcher.py:10: DataConversionWarning: A column-vector y was passed when a 1d array was expected. Please change the shape of y to (n_samples,), for example using ravel().\n",
      "  # Remove the CWD from sys.path while we load stuff.\n"
     ]
    },
    {
     "name": "stdout",
     "output_type": "stream",
     "text": [
      "Accuracy: 0.98\n",
      "Accuracy per feature: 0.03\n"
     ]
    }
   ],
   "source": [
    "# How about Feature Importance?\n",
    "# split X into training and testing sets\n",
    "X_train, X_test, y_train, y_test = train_test_split(X, y, test_size=0.3, random_state=0)\n",
    "\n",
    "# Train a RandomForestClassifier as model \n",
    "forest = RandomForestClassifier(criterion='entropy',\n",
    "                                n_estimators=200, \n",
    "                                random_state=1,\n",
    "                                n_jobs=2)\n",
    "forest.fit(X_train, y_train)\n",
    "\n",
    "y_pred = forest.predict(X_test)\n",
    "print('Accuracy: %.2f' % accuracy_score(y_test, y_pred))\n",
    "print('Accuracy per feature: %.2f' % (accuracy_score(y_test, y_pred)/len(X.columns)))"
   ]
  },
  {
   "cell_type": "code",
   "execution_count": 35,
   "metadata": {},
   "outputs": [
    {
     "name": "stdout",
     "output_type": "stream",
     "text": [
      " 1) worst concave points           0.141849\n",
      " 2) mean concave points            0.117697\n",
      " 3) worst radius                   0.110919\n",
      " 4) worst perimeter                0.105243\n",
      " 5) mean concavity                 0.077163\n",
      " 6) worst area                     0.073364\n",
      " 7) area error                     0.041760\n",
      " 8) mean perimeter                 0.036943\n",
      " 9) mean radius                    0.035625\n",
      "10) worst concavity                0.035205\n",
      "11) mean area                      0.032890\n",
      "12) worst texture                  0.022736\n",
      "13) mean texture                   0.018584\n",
      "14) worst compactness              0.016786\n",
      "15) radius error                   0.015408\n",
      "16) worst symmetry                 0.014770\n",
      "17) worst smoothness               0.014235\n",
      "18) mean compactness               0.010085\n",
      "19) perimeter error                0.010040\n",
      "20) worst fractal dimension        0.009015\n",
      "21) concave points error           0.008085\n",
      "22) compactness error              0.007420\n",
      "23) mean smoothness                0.006557\n",
      "24) fractal dimension error        0.006368\n",
      "25) symmetry error                 0.006357\n",
      "26) concavity error                0.006135\n",
      "27) texture error                  0.005854\n",
      "28) smoothness error               0.005100\n",
      "29) mean symmetry                  0.004598\n",
      "30) mean fractal dimension         0.003209\n"
     ]
    },
    {
     "data": {
      "image/png": "[encoded data removed]",
      "text/plain": [
       "<matplotlib.figure.Figure at 0x294be930588>"
      ]
     },
     "metadata": {},
     "output_type": "display_data"
    }
   ],
   "source": [
    "# Computing Feature Importance\n",
    "%matplotlib inline\n",
    "\n",
    "import numpy as np\n",
    "import matplotlib.pyplot as plt\n",
    "\n",
    "importances = forest.feature_importances_\n",
    "# get sort indices in descending order\n",
    "indices = np.argsort(importances)[::-1]\n",
    "\n",
    "for f in range(X_train.shape[1]):\n",
    "    print(\"%2d) %-*s %f\" % (f + 1, 30, \n",
    "                            X.columns.values[indices[f]], \n",
    "                            importances[indices[f]]))\n",
    "\n",
    "plt.figure()\n",
    "plt.title('Feature Importances')\n",
    "plt.bar(range(X_train.shape[1]),\n",
    "        importances[indices],\n",
    "        align='center',\n",
    "        alpha=0.5)\n",
    "\n",
    "plt.xticks(range(X_train.shape[1]), \n",
    "           X.columns.values[indices], rotation=90)\n",
    "plt.xlim([-1, X_train.shape[1]])\n",
    "plt.tight_layout()\n",
    "#plt.savefig('./output/fig-forest-feature-importances.png', dpi=300)\n",
    "plt.show()"
   ]
  },
  {
   "cell_type": "code",
   "execution_count": 36,
   "metadata": {},
   "outputs": [
    {
     "name": "stderr",
     "output_type": "stream",
     "text": [
      "C:\\Users\\Rohan\\Anaconda3\\lib\\site-packages\\sklearn\\feature_selection\\from_model.py:228: DataConversionWarning: A column-vector y was passed when a 1d array was expected. Please change the shape of y to (n_samples,), for example using ravel().\n",
      "  self.estimator_.fit(X, y, **fit_params)\n"
     ]
    },
    {
     "name": "stdout",
     "output_type": "stream",
     "text": [
      " 1) worst concave points           0.141849\n",
      " 2) mean concave points            0.117697\n"
     ]
    }
   ],
   "source": [
    "# Feature Selection\n",
    "from sklearn.feature_selection import SelectFromModel\n",
    "\n",
    "sfm = SelectFromModel(forest, threshold=0.117)\n",
    "# calls forest.fit()\n",
    "sfm.fit(X_train, y_train)\n",
    "Z_forest_alt = sfm.transform(X)\n",
    "\n",
    "for f in range(Z_forest_alt.shape[1]): #mdf\n",
    "    print(\"%2d) %-*s %f\" % (f + 1, 30, \n",
    "                            X.columns.values[indices[f]], \n",
    "                            importances[indices[f]]))"
   ]
  },
  {
   "cell_type": "code",
   "execution_count": 37,
   "metadata": {},
   "outputs": [
    {
     "name": "stdout",
     "output_type": "stream",
     "text": [
      "# of Features：2\n"
     ]
    }
   ],
   "source": [
    "Z_forest = X[['worst concave points', 'mean concave points']].values\n",
    "print('# of Features：%d' % Z_forest.shape[1])"
   ]
  },
  {
   "cell_type": "code",
   "execution_count": 38,
   "metadata": {},
   "outputs": [
    {
     "name": "stderr",
     "output_type": "stream",
     "text": [
      "C:\\Users\\Rohan\\Anaconda3\\lib\\site-packages\\ipykernel_launcher.py:9: DataConversionWarning: A column-vector y was passed when a 1d array was expected. Please change the shape of y to (n_samples,), for example using ravel().\n",
      "  if __name__ == '__main__':\n"
     ]
    },
    {
     "name": "stdout",
     "output_type": "stream",
     "text": [
      "Feature_Selection_Accuracy: 0.89\n",
      "Feature_Selection_Accuracy per feature: 0.44\n"
     ]
    }
   ],
   "source": [
    "Z_forest_train, Z_forest_test, y_forest_train, y_forest_test = train_test_split(\n",
    "    Z_forest, y, test_size=0.3, random_state=0)\n",
    "\n",
    "# Train a RandomForestClassifier as model \n",
    "forest = RandomForestClassifier(criterion='entropy',\n",
    "                                n_estimators=200, \n",
    "                                random_state=1,\n",
    "                                n_jobs=2)\n",
    "forest.fit(Z_forest_train, y_forest_train)\n",
    "\n",
    "y_pred = forest.predict(Z_forest_test)\n",
    "print('Feature_Selection_Accuracy: %.2f' % accuracy_score(y_forest_test, y_pred))\n",
    "print('Feature_Selection_Accuracy per feature: %.2f' % (accuracy_score(y_forest_test, y_pred)/Z_forest.shape[1]))"
   ]
  },
  {
   "cell_type": "code",
   "execution_count": null,
   "metadata": {
    "collapsed": true
   },
   "outputs": [],
   "source": []
  }
 ],
 "metadata": {
  "kernelspec": {
   "display_name": "Python 3",
   "language": "python",
   "name": "python3"
  },
  "language_info": {
   "codemirror_mode": {
    "name": "ipython",
    "version": 3
   },
   "file_extension": ".py",
   "mimetype": "text/x-python",
   "name": "python",
   "nbconvert_exporter": "python",
   "pygments_lexer": "ipython3",
   "version": "3.6.1"
  }
 },
 "nbformat": 4,
 "nbformat_minor": 2
}
